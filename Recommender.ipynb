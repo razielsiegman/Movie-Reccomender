{
  "cells": [
    {
      "cell_type": "markdown",
      "metadata": {
        "id": "view-in-github",
        "colab_type": "text"
      },
      "source": [
        "<a href=\"https://colab.research.google.com/github/razielsiegman/Movie-Recommender/blob/main/Recommender.ipynb\" target=\"_parent\"><img src=\"https://colab.research.google.com/assets/colab-badge.svg\" alt=\"Open In Colab\"/></a>"
      ]
    },
    {
      "cell_type": "markdown",
      "source": [
        "#Setup"
      ],
      "metadata": {
        "id": "B7yyDoP_AHFH"
      }
    },
    {
      "cell_type": "code",
      "execution_count": null,
      "metadata": {
        "colab": {
          "base_uri": "https://localhost:8080/",
          "height": 1000
        },
        "id": "SiYLebV5IXXQ",
        "outputId": "1535910a-b227-4adb-9994-f0889f359716"
      },
      "outputs": [
        {
          "output_type": "stream",
          "name": "stdout",
          "text": [
            "Collecting turicreate\n",
            "  Downloading turicreate-6.4.1-cp37-cp37m-manylinux1_x86_64.whl (92.0 MB)\n",
            "\u001b[K     |████████████████████████████████| 92.0 MB 11 kB/s \n",
            "\u001b[?25hRequirement already satisfied: six>=1.10.0 in /usr/local/lib/python3.7/dist-packages (from turicreate) (1.15.0)\n",
            "Requirement already satisfied: numpy in /usr/local/lib/python3.7/dist-packages (from turicreate) (1.21.6)\n",
            "Requirement already satisfied: scipy>=1.1.0 in /usr/local/lib/python3.7/dist-packages (from turicreate) (1.4.1)\n",
            "Requirement already satisfied: pillow>=5.2.0 in /usr/local/lib/python3.7/dist-packages (from turicreate) (7.1.2)\n",
            "Collecting resampy==0.2.1\n",
            "  Downloading resampy-0.2.1.tar.gz (322 kB)\n",
            "\u001b[K     |████████████████████████████████| 322 kB 10.2 MB/s \n",
            "\u001b[?25hRequirement already satisfied: decorator>=4.0.9 in /usr/local/lib/python3.7/dist-packages (from turicreate) (4.4.2)\n",
            "Requirement already satisfied: pandas>=0.23.2 in /usr/local/lib/python3.7/dist-packages (from turicreate) (1.3.5)\n",
            "Requirement already satisfied: requests>=2.9.1 in /usr/local/lib/python3.7/dist-packages (from turicreate) (2.23.0)\n",
            "Collecting coremltools==3.3\n",
            "  Downloading coremltools-3.3-cp37-none-manylinux1_x86_64.whl (3.5 MB)\n",
            "\u001b[K     |████████████████████████████████| 3.5 MB 30.8 MB/s \n",
            "\u001b[?25hCollecting tensorflow<2.1.0,>=2.0.0\n",
            "  Downloading tensorflow-2.0.4-cp37-cp37m-manylinux2010_x86_64.whl (86.4 MB)\n",
            "\u001b[K     |████████████████████████████████| 86.4 MB 45 kB/s \n",
            "\u001b[?25hCollecting prettytable==0.7.2\n",
            "  Downloading prettytable-0.7.2.zip (28 kB)\n",
            "Collecting numba<0.51.0\n",
            "  Downloading numba-0.50.1-cp37-cp37m-manylinux2014_x86_64.whl (3.6 MB)\n",
            "\u001b[K     |████████████████████████████████| 3.6 MB 39.9 MB/s \n",
            "\u001b[?25hRequirement already satisfied: protobuf>=3.1.0 in /usr/local/lib/python3.7/dist-packages (from coremltools==3.3->turicreate) (3.17.3)\n",
            "Requirement already satisfied: setuptools in /usr/local/lib/python3.7/dist-packages (from numba<0.51.0->turicreate) (57.4.0)\n",
            "Collecting llvmlite<0.34,>=0.33.0.dev0\n",
            "  Downloading llvmlite-0.33.0-cp37-cp37m-manylinux1_x86_64.whl (18.3 MB)\n",
            "\u001b[K     |████████████████████████████████| 18.3 MB 1.9 MB/s \n",
            "\u001b[?25hRequirement already satisfied: pytz>=2017.3 in /usr/local/lib/python3.7/dist-packages (from pandas>=0.23.2->turicreate) (2022.1)\n",
            "Requirement already satisfied: python-dateutil>=2.7.3 in /usr/local/lib/python3.7/dist-packages (from pandas>=0.23.2->turicreate) (2.8.2)\n",
            "Requirement already satisfied: urllib3!=1.25.0,!=1.25.1,<1.26,>=1.21.1 in /usr/local/lib/python3.7/dist-packages (from requests>=2.9.1->turicreate) (1.24.3)\n",
            "Requirement already satisfied: certifi>=2017.4.17 in /usr/local/lib/python3.7/dist-packages (from requests>=2.9.1->turicreate) (2021.10.8)\n",
            "Requirement already satisfied: chardet<4,>=3.0.2 in /usr/local/lib/python3.7/dist-packages (from requests>=2.9.1->turicreate) (3.0.4)\n",
            "Requirement already satisfied: idna<3,>=2.5 in /usr/local/lib/python3.7/dist-packages (from requests>=2.9.1->turicreate) (2.10)\n",
            "Collecting gast==0.2.2\n",
            "  Downloading gast-0.2.2.tar.gz (10 kB)\n",
            "Requirement already satisfied: grpcio>=1.8.6 in /usr/local/lib/python3.7/dist-packages (from tensorflow<2.1.0,>=2.0.0->turicreate) (1.46.1)\n",
            "Collecting h5py<=2.10.0\n",
            "  Downloading h5py-2.10.0-cp37-cp37m-manylinux1_x86_64.whl (2.9 MB)\n",
            "\u001b[K     |████████████████████████████████| 2.9 MB 39.6 MB/s \n",
            "\u001b[?25hRequirement already satisfied: opt-einsum>=2.3.2 in /usr/local/lib/python3.7/dist-packages (from tensorflow<2.1.0,>=2.0.0->turicreate) (3.3.0)\n",
            "Requirement already satisfied: wheel>=0.26 in /usr/local/lib/python3.7/dist-packages (from tensorflow<2.1.0,>=2.0.0->turicreate) (0.37.1)\n",
            "Requirement already satisfied: keras-preprocessing>=1.0.5 in /usr/local/lib/python3.7/dist-packages (from tensorflow<2.1.0,>=2.0.0->turicreate) (1.1.2)\n",
            "Collecting tensorflow-estimator<2.1.0,>=2.0.0\n",
            "  Downloading tensorflow_estimator-2.0.1-py2.py3-none-any.whl (449 kB)\n",
            "\u001b[K     |████████████████████████████████| 449 kB 10.8 MB/s \n",
            "\u001b[?25hRequirement already satisfied: wrapt>=1.11.1 in /usr/local/lib/python3.7/dist-packages (from tensorflow<2.1.0,>=2.0.0->turicreate) (1.14.1)\n",
            "Requirement already satisfied: google-pasta>=0.1.6 in /usr/local/lib/python3.7/dist-packages (from tensorflow<2.1.0,>=2.0.0->turicreate) (0.2.0)\n",
            "Collecting numpy\n",
            "  Downloading numpy-1.18.5-cp37-cp37m-manylinux1_x86_64.whl (20.1 MB)\n",
            "\u001b[K     |████████████████████████████████| 20.1 MB 4.1 MB/s \n",
            "\u001b[?25hRequirement already satisfied: termcolor>=1.1.0 in /usr/local/lib/python3.7/dist-packages (from tensorflow<2.1.0,>=2.0.0->turicreate) (1.1.0)\n",
            "Requirement already satisfied: astor>=0.6.0 in /usr/local/lib/python3.7/dist-packages (from tensorflow<2.1.0,>=2.0.0->turicreate) (0.8.1)\n",
            "Collecting keras-applications>=1.0.8\n",
            "  Downloading Keras_Applications-1.0.8-py3-none-any.whl (50 kB)\n",
            "\u001b[K     |████████████████████████████████| 50 kB 4.3 MB/s \n",
            "\u001b[?25hCollecting tensorboard<2.1.0,>=2.0.0\n",
            "  Downloading tensorboard-2.0.2-py3-none-any.whl (3.8 MB)\n",
            "\u001b[K     |████████████████████████████████| 3.8 MB 35.4 MB/s \n",
            "\u001b[?25hRequirement already satisfied: absl-py>=0.7.0 in /usr/local/lib/python3.7/dist-packages (from tensorflow<2.1.0,>=2.0.0->turicreate) (1.0.0)\n",
            "Requirement already satisfied: werkzeug>=0.11.15 in /usr/local/lib/python3.7/dist-packages (from tensorboard<2.1.0,>=2.0.0->tensorflow<2.1.0,>=2.0.0->turicreate) (1.0.1)\n",
            "Requirement already satisfied: markdown>=2.6.8 in /usr/local/lib/python3.7/dist-packages (from tensorboard<2.1.0,>=2.0.0->tensorflow<2.1.0,>=2.0.0->turicreate) (3.3.7)\n",
            "Requirement already satisfied: google-auth-oauthlib<0.5,>=0.4.1 in /usr/local/lib/python3.7/dist-packages (from tensorboard<2.1.0,>=2.0.0->tensorflow<2.1.0,>=2.0.0->turicreate) (0.4.6)\n",
            "Requirement already satisfied: google-auth<2,>=1.6.3 in /usr/local/lib/python3.7/dist-packages (from tensorboard<2.1.0,>=2.0.0->tensorflow<2.1.0,>=2.0.0->turicreate) (1.35.0)\n",
            "Requirement already satisfied: rsa<5,>=3.1.4 in /usr/local/lib/python3.7/dist-packages (from google-auth<2,>=1.6.3->tensorboard<2.1.0,>=2.0.0->tensorflow<2.1.0,>=2.0.0->turicreate) (4.8)\n",
            "Requirement already satisfied: cachetools<5.0,>=2.0.0 in /usr/local/lib/python3.7/dist-packages (from google-auth<2,>=1.6.3->tensorboard<2.1.0,>=2.0.0->tensorflow<2.1.0,>=2.0.0->turicreate) (4.2.4)\n",
            "Requirement already satisfied: pyasn1-modules>=0.2.1 in /usr/local/lib/python3.7/dist-packages (from google-auth<2,>=1.6.3->tensorboard<2.1.0,>=2.0.0->tensorflow<2.1.0,>=2.0.0->turicreate) (0.2.8)\n",
            "Requirement already satisfied: requests-oauthlib>=0.7.0 in /usr/local/lib/python3.7/dist-packages (from google-auth-oauthlib<0.5,>=0.4.1->tensorboard<2.1.0,>=2.0.0->tensorflow<2.1.0,>=2.0.0->turicreate) (1.3.1)\n",
            "Requirement already satisfied: importlib-metadata>=4.4 in /usr/local/lib/python3.7/dist-packages (from markdown>=2.6.8->tensorboard<2.1.0,>=2.0.0->tensorflow<2.1.0,>=2.0.0->turicreate) (4.11.3)\n",
            "Requirement already satisfied: zipp>=0.5 in /usr/local/lib/python3.7/dist-packages (from importlib-metadata>=4.4->markdown>=2.6.8->tensorboard<2.1.0,>=2.0.0->tensorflow<2.1.0,>=2.0.0->turicreate) (3.8.0)\n",
            "Requirement already satisfied: typing-extensions>=3.6.4 in /usr/local/lib/python3.7/dist-packages (from importlib-metadata>=4.4->markdown>=2.6.8->tensorboard<2.1.0,>=2.0.0->tensorflow<2.1.0,>=2.0.0->turicreate) (4.2.0)\n",
            "Requirement already satisfied: pyasn1<0.5.0,>=0.4.6 in /usr/local/lib/python3.7/dist-packages (from pyasn1-modules>=0.2.1->google-auth<2,>=1.6.3->tensorboard<2.1.0,>=2.0.0->tensorflow<2.1.0,>=2.0.0->turicreate) (0.4.8)\n",
            "Requirement already satisfied: oauthlib>=3.0.0 in /usr/local/lib/python3.7/dist-packages (from requests-oauthlib>=0.7.0->google-auth-oauthlib<0.5,>=0.4.1->tensorboard<2.1.0,>=2.0.0->tensorflow<2.1.0,>=2.0.0->turicreate) (3.2.0)\n",
            "Building wheels for collected packages: prettytable, resampy, gast\n",
            "  Building wheel for prettytable (setup.py) ... \u001b[?25l\u001b[?25hdone\n",
            "  Created wheel for prettytable: filename=prettytable-0.7.2-py3-none-any.whl size=13714 sha256=649a85465499a85c6c4369710399998b83c593c5be66cce3f80f7e4b501932f1\n",
            "  Stored in directory: /root/.cache/pip/wheels/b2/7f/f6/f180315b584f00445045ff1699b550fa895d09471337ce21c6\n",
            "  Building wheel for resampy (setup.py) ... \u001b[?25l\u001b[?25hdone\n",
            "  Created wheel for resampy: filename=resampy-0.2.1-py3-none-any.whl size=320859 sha256=2167d4cf91b0b1b3687f3adde089e7b74f73a22c8e4e690a389be866bf68daeb\n",
            "  Stored in directory: /root/.cache/pip/wheels/71/74/53/d5ceb7c5ee7a168c7d106041863e71ac3273f4a4677743a284\n",
            "  Building wheel for gast (setup.py) ... \u001b[?25l\u001b[?25hdone\n",
            "  Created wheel for gast: filename=gast-0.2.2-py3-none-any.whl size=7554 sha256=7a08b7b8a28ed5833e62058c9d9cf559bc7dc6736a4b283a05903881c9d7e0fa\n",
            "  Stored in directory: /root/.cache/pip/wheels/21/7f/02/420f32a803f7d0967b48dd823da3f558c5166991bfd204eef3\n",
            "Successfully built prettytable resampy gast\n",
            "Installing collected packages: numpy, llvmlite, h5py, tensorflow-estimator, tensorboard, numba, keras-applications, gast, tensorflow, resampy, prettytable, coremltools, turicreate\n",
            "  Attempting uninstall: numpy\n",
            "    Found existing installation: numpy 1.21.6\n",
            "    Uninstalling numpy-1.21.6:\n",
            "      Successfully uninstalled numpy-1.21.6\n",
            "  Attempting uninstall: llvmlite\n",
            "    Found existing installation: llvmlite 0.34.0\n",
            "    Uninstalling llvmlite-0.34.0:\n",
            "      Successfully uninstalled llvmlite-0.34.0\n",
            "  Attempting uninstall: h5py\n",
            "    Found existing installation: h5py 3.1.0\n",
            "    Uninstalling h5py-3.1.0:\n",
            "      Successfully uninstalled h5py-3.1.0\n",
            "  Attempting uninstall: tensorflow-estimator\n",
            "    Found existing installation: tensorflow-estimator 2.8.0\n",
            "    Uninstalling tensorflow-estimator-2.8.0:\n",
            "      Successfully uninstalled tensorflow-estimator-2.8.0\n",
            "  Attempting uninstall: tensorboard\n",
            "    Found existing installation: tensorboard 2.8.0\n",
            "    Uninstalling tensorboard-2.8.0:\n",
            "      Successfully uninstalled tensorboard-2.8.0\n",
            "  Attempting uninstall: numba\n",
            "    Found existing installation: numba 0.51.2\n",
            "    Uninstalling numba-0.51.2:\n",
            "      Successfully uninstalled numba-0.51.2\n",
            "  Attempting uninstall: gast\n",
            "    Found existing installation: gast 0.5.3\n",
            "    Uninstalling gast-0.5.3:\n",
            "      Successfully uninstalled gast-0.5.3\n",
            "  Attempting uninstall: tensorflow\n",
            "    Found existing installation: tensorflow 2.8.0+zzzcolab20220506162203\n",
            "    Uninstalling tensorflow-2.8.0+zzzcolab20220506162203:\n",
            "      Successfully uninstalled tensorflow-2.8.0+zzzcolab20220506162203\n",
            "  Attempting uninstall: resampy\n",
            "    Found existing installation: resampy 0.2.2\n",
            "    Uninstalling resampy-0.2.2:\n",
            "      Successfully uninstalled resampy-0.2.2\n",
            "  Attempting uninstall: prettytable\n",
            "    Found existing installation: prettytable 3.3.0\n",
            "    Uninstalling prettytable-3.3.0:\n",
            "      Successfully uninstalled prettytable-3.3.0\n",
            "\u001b[31mERROR: pip's dependency resolver does not currently take into account all the packages that are installed. This behaviour is the source of the following dependency conflicts.\n",
            "xarray-einstats 0.2.2 requires numpy>=1.21, but you have numpy 1.18.5 which is incompatible.\n",
            "tensorflow-probability 0.16.0 requires gast>=0.3.2, but you have gast 0.2.2 which is incompatible.\n",
            "tables 3.7.0 requires numpy>=1.19.0, but you have numpy 1.18.5 which is incompatible.\n",
            "librosa 0.8.1 requires resampy>=0.2.2, but you have resampy 0.2.1 which is incompatible.\n",
            "jaxlib 0.3.7+cuda11.cudnn805 requires numpy>=1.19, but you have numpy 1.18.5 which is incompatible.\n",
            "jax 0.3.8 requires numpy>=1.19, but you have numpy 1.18.5 which is incompatible.\n",
            "datascience 0.10.6 requires folium==0.2.1, but you have folium 0.8.3 which is incompatible.\n",
            "albumentations 0.1.12 requires imgaug<0.2.7,>=0.2.5, but you have imgaug 0.2.9 which is incompatible.\u001b[0m\n",
            "Successfully installed coremltools-3.3 gast-0.2.2 h5py-2.10.0 keras-applications-1.0.8 llvmlite-0.33.0 numba-0.50.1 numpy-1.18.5 prettytable-0.7.2 resampy-0.2.1 tensorboard-2.0.2 tensorflow-2.0.4 tensorflow-estimator-2.0.1 turicreate-6.4.1\n"
          ]
        },
        {
          "output_type": "display_data",
          "data": {
            "application/vnd.colab-display-data+json": {
              "pip_warning": {
                "packages": [
                  "numpy"
                ]
              }
            }
          },
          "metadata": {}
        }
      ],
      "source": [
        "!pip install turicreate\n",
        "\n",
        "import pandas as pd\n",
        "from turicreate import SFrame\n",
        "import turicreate as tc\n",
        "import numpy as np\n",
        "import math\n",
        "from sklearn.model_selection import train_test_split"
      ]
    },
    {
      "cell_type": "markdown",
      "source": [
        "Load movielens data set, and drop the timestamp column, as it's arbitrary."
      ],
      "metadata": {
        "id": "tP5M6kjvLBdZ"
      }
    },
    {
      "cell_type": "code",
      "execution_count": null,
      "metadata": {
        "id": "VRFv5r1xxY6h"
      },
      "outputs": [],
      "source": [
        "df = pd.read_csv(\"http://files.grouplens.org/datasets/movielens/ml-100k/u1.base\",sep='\\t',header=None, names=[\"userId\", \"movieId\", \"rating\", \"timestamp\"])\n",
        "df.drop('timestamp', inplace=True, axis =1)"
      ]
    },
    {
      "cell_type": "markdown",
      "source": [
        "Perform basic data analysis, exploration, and cleaning."
      ],
      "metadata": {
        "id": "SroXXYjFGG7m"
      }
    },
    {
      "cell_type": "code",
      "source": [
        "df.head(10)"
      ],
      "metadata": {
        "colab": {
          "base_uri": "https://localhost:8080/",
          "height": 363
        },
        "id": "9Nz1ioGHF7eO",
        "outputId": "ff195f9e-8432-41cf-8184-087e5d2feb87"
      },
      "execution_count": null,
      "outputs": [
        {
          "output_type": "execute_result",
          "data": {
            "text/plain": [
              "   userId  movieId  rating\n",
              "0       1        1       5\n",
              "1       1        2       3\n",
              "2       1        3       4\n",
              "3       1        4       3\n",
              "4       1        5       3\n",
              "5       1        7       4\n",
              "6       1        8       1\n",
              "7       1        9       5\n",
              "8       1       11       2\n",
              "9       1       13       5"
            ],
            "text/html": [
              "\n",
              "  <div id=\"df-877a031b-0f89-460c-bc91-bddb978a51fd\">\n",
              "    <div class=\"colab-df-container\">\n",
              "      <div>\n",
              "<style scoped>\n",
              "    .dataframe tbody tr th:only-of-type {\n",
              "        vertical-align: middle;\n",
              "    }\n",
              "\n",
              "    .dataframe tbody tr th {\n",
              "        vertical-align: top;\n",
              "    }\n",
              "\n",
              "    .dataframe thead th {\n",
              "        text-align: right;\n",
              "    }\n",
              "</style>\n",
              "<table border=\"1\" class=\"dataframe\">\n",
              "  <thead>\n",
              "    <tr style=\"text-align: right;\">\n",
              "      <th></th>\n",
              "      <th>userId</th>\n",
              "      <th>movieId</th>\n",
              "      <th>rating</th>\n",
              "    </tr>\n",
              "  </thead>\n",
              "  <tbody>\n",
              "    <tr>\n",
              "      <th>0</th>\n",
              "      <td>1</td>\n",
              "      <td>1</td>\n",
              "      <td>5</td>\n",
              "    </tr>\n",
              "    <tr>\n",
              "      <th>1</th>\n",
              "      <td>1</td>\n",
              "      <td>2</td>\n",
              "      <td>3</td>\n",
              "    </tr>\n",
              "    <tr>\n",
              "      <th>2</th>\n",
              "      <td>1</td>\n",
              "      <td>3</td>\n",
              "      <td>4</td>\n",
              "    </tr>\n",
              "    <tr>\n",
              "      <th>3</th>\n",
              "      <td>1</td>\n",
              "      <td>4</td>\n",
              "      <td>3</td>\n",
              "    </tr>\n",
              "    <tr>\n",
              "      <th>4</th>\n",
              "      <td>1</td>\n",
              "      <td>5</td>\n",
              "      <td>3</td>\n",
              "    </tr>\n",
              "    <tr>\n",
              "      <th>5</th>\n",
              "      <td>1</td>\n",
              "      <td>7</td>\n",
              "      <td>4</td>\n",
              "    </tr>\n",
              "    <tr>\n",
              "      <th>6</th>\n",
              "      <td>1</td>\n",
              "      <td>8</td>\n",
              "      <td>1</td>\n",
              "    </tr>\n",
              "    <tr>\n",
              "      <th>7</th>\n",
              "      <td>1</td>\n",
              "      <td>9</td>\n",
              "      <td>5</td>\n",
              "    </tr>\n",
              "    <tr>\n",
              "      <th>8</th>\n",
              "      <td>1</td>\n",
              "      <td>11</td>\n",
              "      <td>2</td>\n",
              "    </tr>\n",
              "    <tr>\n",
              "      <th>9</th>\n",
              "      <td>1</td>\n",
              "      <td>13</td>\n",
              "      <td>5</td>\n",
              "    </tr>\n",
              "  </tbody>\n",
              "</table>\n",
              "</div>\n",
              "      <button class=\"colab-df-convert\" onclick=\"convertToInteractive('df-877a031b-0f89-460c-bc91-bddb978a51fd')\"\n",
              "              title=\"Convert this dataframe to an interactive table.\"\n",
              "              style=\"display:none;\">\n",
              "        \n",
              "  <svg xmlns=\"http://www.w3.org/2000/svg\" height=\"24px\"viewBox=\"0 0 24 24\"\n",
              "       width=\"24px\">\n",
              "    <path d=\"M0 0h24v24H0V0z\" fill=\"none\"/>\n",
              "    <path d=\"M18.56 5.44l.94 2.06.94-2.06 2.06-.94-2.06-.94-.94-2.06-.94 2.06-2.06.94zm-11 1L8.5 8.5l.94-2.06 2.06-.94-2.06-.94L8.5 2.5l-.94 2.06-2.06.94zm10 10l.94 2.06.94-2.06 2.06-.94-2.06-.94-.94-2.06-.94 2.06-2.06.94z\"/><path d=\"M17.41 7.96l-1.37-1.37c-.4-.4-.92-.59-1.43-.59-.52 0-1.04.2-1.43.59L10.3 9.45l-7.72 7.72c-.78.78-.78 2.05 0 2.83L4 21.41c.39.39.9.59 1.41.59.51 0 1.02-.2 1.41-.59l7.78-7.78 2.81-2.81c.8-.78.8-2.07 0-2.86zM5.41 20L4 18.59l7.72-7.72 1.47 1.35L5.41 20z\"/>\n",
              "  </svg>\n",
              "      </button>\n",
              "      \n",
              "  <style>\n",
              "    .colab-df-container {\n",
              "      display:flex;\n",
              "      flex-wrap:wrap;\n",
              "      gap: 12px;\n",
              "    }\n",
              "\n",
              "    .colab-df-convert {\n",
              "      background-color: #E8F0FE;\n",
              "      border: none;\n",
              "      border-radius: 50%;\n",
              "      cursor: pointer;\n",
              "      display: none;\n",
              "      fill: #1967D2;\n",
              "      height: 32px;\n",
              "      padding: 0 0 0 0;\n",
              "      width: 32px;\n",
              "    }\n",
              "\n",
              "    .colab-df-convert:hover {\n",
              "      background-color: #E2EBFA;\n",
              "      box-shadow: 0px 1px 2px rgba(60, 64, 67, 0.3), 0px 1px 3px 1px rgba(60, 64, 67, 0.15);\n",
              "      fill: #174EA6;\n",
              "    }\n",
              "\n",
              "    [theme=dark] .colab-df-convert {\n",
              "      background-color: #3B4455;\n",
              "      fill: #D2E3FC;\n",
              "    }\n",
              "\n",
              "    [theme=dark] .colab-df-convert:hover {\n",
              "      background-color: #434B5C;\n",
              "      box-shadow: 0px 1px 3px 1px rgba(0, 0, 0, 0.15);\n",
              "      filter: drop-shadow(0px 1px 2px rgba(0, 0, 0, 0.3));\n",
              "      fill: #FFFFFF;\n",
              "    }\n",
              "  </style>\n",
              "\n",
              "      <script>\n",
              "        const buttonEl =\n",
              "          document.querySelector('#df-877a031b-0f89-460c-bc91-bddb978a51fd button.colab-df-convert');\n",
              "        buttonEl.style.display =\n",
              "          google.colab.kernel.accessAllowed ? 'block' : 'none';\n",
              "\n",
              "        async function convertToInteractive(key) {\n",
              "          const element = document.querySelector('#df-877a031b-0f89-460c-bc91-bddb978a51fd');\n",
              "          const dataTable =\n",
              "            await google.colab.kernel.invokeFunction('convertToInteractive',\n",
              "                                                     [key], {});\n",
              "          if (!dataTable) return;\n",
              "\n",
              "          const docLinkHtml = 'Like what you see? Visit the ' +\n",
              "            '<a target=\"_blank\" href=https://colab.research.google.com/notebooks/data_table.ipynb>data table notebook</a>'\n",
              "            + ' to learn more about interactive tables.';\n",
              "          element.innerHTML = '';\n",
              "          dataTable['output_type'] = 'display_data';\n",
              "          await google.colab.output.renderOutput(dataTable, element);\n",
              "          const docLink = document.createElement('div');\n",
              "          docLink.innerHTML = docLinkHtml;\n",
              "          element.appendChild(docLink);\n",
              "        }\n",
              "      </script>\n",
              "    </div>\n",
              "  </div>\n",
              "  "
            ]
          },
          "metadata": {},
          "execution_count": 3
        }
      ]
    },
    {
      "cell_type": "code",
      "execution_count": null,
      "metadata": {
        "colab": {
          "base_uri": "https://localhost:8080/",
          "height": 300
        },
        "id": "rpyA3qfQx-h-",
        "outputId": "4d10b9bf-6c75-475e-8588-70ab008d02b3"
      },
      "outputs": [
        {
          "output_type": "execute_result",
          "data": {
            "text/plain": [
              "            userId       movieId        rating\n",
              "count  80000.00000  80000.000000  80000.000000\n",
              "mean     525.16570    425.705200      3.528350\n",
              "std      255.94956    331.383936      1.118565\n",
              "min        1.00000      1.000000      1.000000\n",
              "25%      334.00000    175.000000      3.000000\n",
              "50%      535.00000    321.000000      4.000000\n",
              "75%      744.00000    631.000000      4.000000\n",
              "max      943.00000   1682.000000      5.000000"
            ],
            "text/html": [
              "\n",
              "  <div id=\"df-1f26b9bc-5348-4cd4-adfb-c0906d352c35\">\n",
              "    <div class=\"colab-df-container\">\n",
              "      <div>\n",
              "<style scoped>\n",
              "    .dataframe tbody tr th:only-of-type {\n",
              "        vertical-align: middle;\n",
              "    }\n",
              "\n",
              "    .dataframe tbody tr th {\n",
              "        vertical-align: top;\n",
              "    }\n",
              "\n",
              "    .dataframe thead th {\n",
              "        text-align: right;\n",
              "    }\n",
              "</style>\n",
              "<table border=\"1\" class=\"dataframe\">\n",
              "  <thead>\n",
              "    <tr style=\"text-align: right;\">\n",
              "      <th></th>\n",
              "      <th>userId</th>\n",
              "      <th>movieId</th>\n",
              "      <th>rating</th>\n",
              "    </tr>\n",
              "  </thead>\n",
              "  <tbody>\n",
              "    <tr>\n",
              "      <th>count</th>\n",
              "      <td>80000.00000</td>\n",
              "      <td>80000.000000</td>\n",
              "      <td>80000.000000</td>\n",
              "    </tr>\n",
              "    <tr>\n",
              "      <th>mean</th>\n",
              "      <td>525.16570</td>\n",
              "      <td>425.705200</td>\n",
              "      <td>3.528350</td>\n",
              "    </tr>\n",
              "    <tr>\n",
              "      <th>std</th>\n",
              "      <td>255.94956</td>\n",
              "      <td>331.383936</td>\n",
              "      <td>1.118565</td>\n",
              "    </tr>\n",
              "    <tr>\n",
              "      <th>min</th>\n",
              "      <td>1.00000</td>\n",
              "      <td>1.000000</td>\n",
              "      <td>1.000000</td>\n",
              "    </tr>\n",
              "    <tr>\n",
              "      <th>25%</th>\n",
              "      <td>334.00000</td>\n",
              "      <td>175.000000</td>\n",
              "      <td>3.000000</td>\n",
              "    </tr>\n",
              "    <tr>\n",
              "      <th>50%</th>\n",
              "      <td>535.00000</td>\n",
              "      <td>321.000000</td>\n",
              "      <td>4.000000</td>\n",
              "    </tr>\n",
              "    <tr>\n",
              "      <th>75%</th>\n",
              "      <td>744.00000</td>\n",
              "      <td>631.000000</td>\n",
              "      <td>4.000000</td>\n",
              "    </tr>\n",
              "    <tr>\n",
              "      <th>max</th>\n",
              "      <td>943.00000</td>\n",
              "      <td>1682.000000</td>\n",
              "      <td>5.000000</td>\n",
              "    </tr>\n",
              "  </tbody>\n",
              "</table>\n",
              "</div>\n",
              "      <button class=\"colab-df-convert\" onclick=\"convertToInteractive('df-1f26b9bc-5348-4cd4-adfb-c0906d352c35')\"\n",
              "              title=\"Convert this dataframe to an interactive table.\"\n",
              "              style=\"display:none;\">\n",
              "        \n",
              "  <svg xmlns=\"http://www.w3.org/2000/svg\" height=\"24px\"viewBox=\"0 0 24 24\"\n",
              "       width=\"24px\">\n",
              "    <path d=\"M0 0h24v24H0V0z\" fill=\"none\"/>\n",
              "    <path d=\"M18.56 5.44l.94 2.06.94-2.06 2.06-.94-2.06-.94-.94-2.06-.94 2.06-2.06.94zm-11 1L8.5 8.5l.94-2.06 2.06-.94-2.06-.94L8.5 2.5l-.94 2.06-2.06.94zm10 10l.94 2.06.94-2.06 2.06-.94-2.06-.94-.94-2.06-.94 2.06-2.06.94z\"/><path d=\"M17.41 7.96l-1.37-1.37c-.4-.4-.92-.59-1.43-.59-.52 0-1.04.2-1.43.59L10.3 9.45l-7.72 7.72c-.78.78-.78 2.05 0 2.83L4 21.41c.39.39.9.59 1.41.59.51 0 1.02-.2 1.41-.59l7.78-7.78 2.81-2.81c.8-.78.8-2.07 0-2.86zM5.41 20L4 18.59l7.72-7.72 1.47 1.35L5.41 20z\"/>\n",
              "  </svg>\n",
              "      </button>\n",
              "      \n",
              "  <style>\n",
              "    .colab-df-container {\n",
              "      display:flex;\n",
              "      flex-wrap:wrap;\n",
              "      gap: 12px;\n",
              "    }\n",
              "\n",
              "    .colab-df-convert {\n",
              "      background-color: #E8F0FE;\n",
              "      border: none;\n",
              "      border-radius: 50%;\n",
              "      cursor: pointer;\n",
              "      display: none;\n",
              "      fill: #1967D2;\n",
              "      height: 32px;\n",
              "      padding: 0 0 0 0;\n",
              "      width: 32px;\n",
              "    }\n",
              "\n",
              "    .colab-df-convert:hover {\n",
              "      background-color: #E2EBFA;\n",
              "      box-shadow: 0px 1px 2px rgba(60, 64, 67, 0.3), 0px 1px 3px 1px rgba(60, 64, 67, 0.15);\n",
              "      fill: #174EA6;\n",
              "    }\n",
              "\n",
              "    [theme=dark] .colab-df-convert {\n",
              "      background-color: #3B4455;\n",
              "      fill: #D2E3FC;\n",
              "    }\n",
              "\n",
              "    [theme=dark] .colab-df-convert:hover {\n",
              "      background-color: #434B5C;\n",
              "      box-shadow: 0px 1px 3px 1px rgba(0, 0, 0, 0.15);\n",
              "      filter: drop-shadow(0px 1px 2px rgba(0, 0, 0, 0.3));\n",
              "      fill: #FFFFFF;\n",
              "    }\n",
              "  </style>\n",
              "\n",
              "      <script>\n",
              "        const buttonEl =\n",
              "          document.querySelector('#df-1f26b9bc-5348-4cd4-adfb-c0906d352c35 button.colab-df-convert');\n",
              "        buttonEl.style.display =\n",
              "          google.colab.kernel.accessAllowed ? 'block' : 'none';\n",
              "\n",
              "        async function convertToInteractive(key) {\n",
              "          const element = document.querySelector('#df-1f26b9bc-5348-4cd4-adfb-c0906d352c35');\n",
              "          const dataTable =\n",
              "            await google.colab.kernel.invokeFunction('convertToInteractive',\n",
              "                                                     [key], {});\n",
              "          if (!dataTable) return;\n",
              "\n",
              "          const docLinkHtml = 'Like what you see? Visit the ' +\n",
              "            '<a target=\"_blank\" href=https://colab.research.google.com/notebooks/data_table.ipynb>data table notebook</a>'\n",
              "            + ' to learn more about interactive tables.';\n",
              "          element.innerHTML = '';\n",
              "          dataTable['output_type'] = 'display_data';\n",
              "          await google.colab.output.renderOutput(dataTable, element);\n",
              "          const docLink = document.createElement('div');\n",
              "          docLink.innerHTML = docLinkHtml;\n",
              "          element.appendChild(docLink);\n",
              "        }\n",
              "      </script>\n",
              "    </div>\n",
              "  </div>\n",
              "  "
            ]
          },
          "metadata": {},
          "execution_count": 4
        }
      ],
      "source": [
        "df.describe()"
      ]
    },
    {
      "cell_type": "markdown",
      "source": [
        "Although the highest movieId is 1682, the 50th percentile value is 321, and the 75th percentile value is 631.  Let's have a closer look at the movie Id and user Id distributions."
      ],
      "metadata": {
        "id": "ZXoHmCQMGWKc"
      }
    },
    {
      "cell_type": "code",
      "source": [
        "df.hist(column = 'userId')\n",
        "df.hist(column = 'movieId')"
      ],
      "metadata": {
        "colab": {
          "base_uri": "https://localhost:8080/",
          "height": 580
        },
        "id": "OGIsIQgAFKfo",
        "outputId": "b14aa3bb-5f91-448f-c344-40761041ac9e"
      },
      "execution_count": null,
      "outputs": [
        {
          "output_type": "execute_result",
          "data": {
            "text/plain": [
              "array([[<matplotlib.axes._subplots.AxesSubplot object at 0x7f83d1784d90>]],\n",
              "      dtype=object)"
            ]
          },
          "metadata": {},
          "execution_count": 5
        },
        {
          "output_type": "display_data",
          "data": {
            "text/plain": [
              "<Figure size 432x288 with 1 Axes>"
            ],
            "image/png": "[encoded data removed]"
          },
          "metadata": {
            "needs_background": "light"
          }
        },
        {
          "output_type": "display_data",
          "data": {
            "text/plain": [
              "<Figure size 432x288 with 1 Axes>"
            ],
            "image/png": "[encoded data removed]"
          },
          "metadata": {
            "needs_background": "light"
          }
        }
      ]
    },
    {
      "cell_type": "markdown",
      "source": [
        "It does in fact seem that the robustness of the data set drops off significantly as movie Ids increase.  This is presumably because these movies are newer, and do not yet have as many reviews as older movies.  Let's drop data for very high movie Ids, to prevent their data sparsity from reducing the quality of the model."
      ],
      "metadata": {
        "id": "INLjRPnUGjns"
      }
    },
    {
      "cell_type": "code",
      "source": [
        "#Collect dataframe indices where the movieId is greater than 1200\n",
        "indices_to_drop = df[df['movieId'] > 1200].index\n",
        "\n",
        "# Delete these rows from the data\n",
        "df.drop(indices_to_drop, inplace=True)"
      ],
      "metadata": {
        "id": "CsWM9B98DRrc"
      },
      "execution_count": null,
      "outputs": []
    },
    {
      "cell_type": "markdown",
      "source": [
        "Let's have another look at the new distribution."
      ],
      "metadata": {
        "id": "oOjOzhYxHfg7"
      }
    },
    {
      "cell_type": "code",
      "source": [
        "df.describe()"
      ],
      "metadata": {
        "colab": {
          "base_uri": "https://localhost:8080/",
          "height": 300
        },
        "id": "Zy-Fv7bZLXty",
        "outputId": "76291ebf-46c1-478d-d554-b059c6874320"
      },
      "execution_count": null,
      "outputs": [
        {
          "output_type": "execute_result",
          "data": {
            "text/plain": [
              "             userId       movieId        rating\n",
              "count  77731.000000  77731.000000  77731.000000\n",
              "mean     524.553190    398.432080      3.548353\n",
              "std      256.555418    293.774525      1.109512\n",
              "min        1.000000      1.000000      1.000000\n",
              "25%      334.000000    173.000000      3.000000\n",
              "50%      535.000000    312.000000      4.000000\n",
              "75%      743.000000    591.000000      4.000000\n",
              "max      943.000000   1200.000000      5.000000"
            ],
            "text/html": [
              "\n",
              "  <div id=\"df-c87ba226-6106-4445-b003-b0b6e7b7e5d3\">\n",
              "    <div class=\"colab-df-container\">\n",
              "      <div>\n",
              "<style scoped>\n",
              "    .dataframe tbody tr th:only-of-type {\n",
              "        vertical-align: middle;\n",
              "    }\n",
              "\n",
              "    .dataframe tbody tr th {\n",
              "        vertical-align: top;\n",
              "    }\n",
              "\n",
              "    .dataframe thead th {\n",
              "        text-align: right;\n",
              "    }\n",
              "</style>\n",
              "<table border=\"1\" class=\"dataframe\">\n",
              "  <thead>\n",
              "    <tr style=\"text-align: right;\">\n",
              "      <th></th>\n",
              "      <th>userId</th>\n",
              "      <th>movieId</th>\n",
              "      <th>rating</th>\n",
              "    </tr>\n",
              "  </thead>\n",
              "  <tbody>\n",
              "    <tr>\n",
              "      <th>count</th>\n",
              "      <td>77731.000000</td>\n",
              "      <td>77731.000000</td>\n",
              "      <td>77731.000000</td>\n",
              "    </tr>\n",
              "    <tr>\n",
              "      <th>mean</th>\n",
              "      <td>524.553190</td>\n",
              "      <td>398.432080</td>\n",
              "      <td>3.548353</td>\n",
              "    </tr>\n",
              "    <tr>\n",
              "      <th>std</th>\n",
              "      <td>256.555418</td>\n",
              "      <td>293.774525</td>\n",
              "      <td>1.109512</td>\n",
              "    </tr>\n",
              "    <tr>\n",
              "      <th>min</th>\n",
              "      <td>1.000000</td>\n",
              "      <td>1.000000</td>\n",
              "      <td>1.000000</td>\n",
              "    </tr>\n",
              "    <tr>\n",
              "      <th>25%</th>\n",
              "      <td>334.000000</td>\n",
              "      <td>173.000000</td>\n",
              "      <td>3.000000</td>\n",
              "    </tr>\n",
              "    <tr>\n",
              "      <th>50%</th>\n",
              "      <td>535.000000</td>\n",
              "      <td>312.000000</td>\n",
              "      <td>4.000000</td>\n",
              "    </tr>\n",
              "    <tr>\n",
              "      <th>75%</th>\n",
              "      <td>743.000000</td>\n",
              "      <td>591.000000</td>\n",
              "      <td>4.000000</td>\n",
              "    </tr>\n",
              "    <tr>\n",
              "      <th>max</th>\n",
              "      <td>943.000000</td>\n",
              "      <td>1200.000000</td>\n",
              "      <td>5.000000</td>\n",
              "    </tr>\n",
              "  </tbody>\n",
              "</table>\n",
              "</div>\n",
              "      <button class=\"colab-df-convert\" onclick=\"convertToInteractive('df-c87ba226-6106-4445-b003-b0b6e7b7e5d3')\"\n",
              "              title=\"Convert this dataframe to an interactive table.\"\n",
              "              style=\"display:none;\">\n",
              "        \n",
              "  <svg xmlns=\"http://www.w3.org/2000/svg\" height=\"24px\"viewBox=\"0 0 24 24\"\n",
              "       width=\"24px\">\n",
              "    <path d=\"M0 0h24v24H0V0z\" fill=\"none\"/>\n",
              "    <path d=\"M18.56 5.44l.94 2.06.94-2.06 2.06-.94-2.06-.94-.94-2.06-.94 2.06-2.06.94zm-11 1L8.5 8.5l.94-2.06 2.06-.94-2.06-.94L8.5 2.5l-.94 2.06-2.06.94zm10 10l.94 2.06.94-2.06 2.06-.94-2.06-.94-.94-2.06-.94 2.06-2.06.94z\"/><path d=\"M17.41 7.96l-1.37-1.37c-.4-.4-.92-.59-1.43-.59-.52 0-1.04.2-1.43.59L10.3 9.45l-7.72 7.72c-.78.78-.78 2.05 0 2.83L4 21.41c.39.39.9.59 1.41.59.51 0 1.02-.2 1.41-.59l7.78-7.78 2.81-2.81c.8-.78.8-2.07 0-2.86zM5.41 20L4 18.59l7.72-7.72 1.47 1.35L5.41 20z\"/>\n",
              "  </svg>\n",
              "      </button>\n",
              "      \n",
              "  <style>\n",
              "    .colab-df-container {\n",
              "      display:flex;\n",
              "      flex-wrap:wrap;\n",
              "      gap: 12px;\n",
              "    }\n",
              "\n",
              "    .colab-df-convert {\n",
              "      background-color: #E8F0FE;\n",
              "      border: none;\n",
              "      border-radius: 50%;\n",
              "      cursor: pointer;\n",
              "      display: none;\n",
              "      fill: #1967D2;\n",
              "      height: 32px;\n",
              "      padding: 0 0 0 0;\n",
              "      width: 32px;\n",
              "    }\n",
              "\n",
              "    .colab-df-convert:hover {\n",
              "      background-color: #E2EBFA;\n",
              "      box-shadow: 0px 1px 2px rgba(60, 64, 67, 0.3), 0px 1px 3px 1px rgba(60, 64, 67, 0.15);\n",
              "      fill: #174EA6;\n",
              "    }\n",
              "\n",
              "    [theme=dark] .colab-df-convert {\n",
              "      background-color: #3B4455;\n",
              "      fill: #D2E3FC;\n",
              "    }\n",
              "\n",
              "    [theme=dark] .colab-df-convert:hover {\n",
              "      background-color: #434B5C;\n",
              "      box-shadow: 0px 1px 3px 1px rgba(0, 0, 0, 0.15);\n",
              "      filter: drop-shadow(0px 1px 2px rgba(0, 0, 0, 0.3));\n",
              "      fill: #FFFFFF;\n",
              "    }\n",
              "  </style>\n",
              "\n",
              "      <script>\n",
              "        const buttonEl =\n",
              "          document.querySelector('#df-c87ba226-6106-4445-b003-b0b6e7b7e5d3 button.colab-df-convert');\n",
              "        buttonEl.style.display =\n",
              "          google.colab.kernel.accessAllowed ? 'block' : 'none';\n",
              "\n",
              "        async function convertToInteractive(key) {\n",
              "          const element = document.querySelector('#df-c87ba226-6106-4445-b003-b0b6e7b7e5d3');\n",
              "          const dataTable =\n",
              "            await google.colab.kernel.invokeFunction('convertToInteractive',\n",
              "                                                     [key], {});\n",
              "          if (!dataTable) return;\n",
              "\n",
              "          const docLinkHtml = 'Like what you see? Visit the ' +\n",
              "            '<a target=\"_blank\" href=https://colab.research.google.com/notebooks/data_table.ipynb>data table notebook</a>'\n",
              "            + ' to learn more about interactive tables.';\n",
              "          element.innerHTML = '';\n",
              "          dataTable['output_type'] = 'display_data';\n",
              "          await google.colab.output.renderOutput(dataTable, element);\n",
              "          const docLink = document.createElement('div');\n",
              "          docLink.innerHTML = docLinkHtml;\n",
              "          element.appendChild(docLink);\n",
              "        }\n",
              "      </script>\n",
              "    </div>\n",
              "  </div>\n",
              "  "
            ]
          },
          "metadata": {},
          "execution_count": 7
        }
      ]
    },
    {
      "cell_type": "markdown",
      "source": [
        "Although higher movie Ids still have less data, the highest Ids with extremely few data points have been removed.  Notably, although 482 movie Ids have been removed (as the new highest Id is 1200, as opposed to 1682), only 2,270 data points have been removed.  Therefore, on average, the removed movies had less than 5 reviews each, which is relatively small and could have skewed the model."
      ],
      "metadata": {
        "id": "Bmu6tuMJLjHH"
      }
    },
    {
      "cell_type": "code",
      "source": [
        "df.hist(column = 'movieId')"
      ],
      "metadata": {
        "colab": {
          "base_uri": "https://localhost:8080/",
          "height": 316
        },
        "id": "w2fj9UgkHVAu",
        "outputId": "22f26b5b-8eb9-4617-d32a-a0bcfe52fc0f"
      },
      "execution_count": null,
      "outputs": [
        {
          "output_type": "execute_result",
          "data": {
            "text/plain": [
              "array([[<matplotlib.axes._subplots.AxesSubplot object at 0x7f83d167fbd0>]],\n",
              "      dtype=object)"
            ]
          },
          "metadata": {},
          "execution_count": 8
        },
        {
          "output_type": "display_data",
          "data": {
            "text/plain": [
              "<Figure size 432x288 with 1 Axes>"
            ],
            "image/png": "[encoded data removed]"
          },
          "metadata": {
            "needs_background": "light"
          }
        }
      ]
    },
    {
      "cell_type": "markdown",
      "source": [
        "A final data cleaning measure be taken.  Any movies that were rated less than 5 total times should be removed from the data set.  This is done for 2 reasons.  Firstly, movies there are a few movies that fall into this category, even with ids that are lower than 1200, and would decrease model performance with such a minimal amount of information known about them.  Furthermore, if this is not done, errors can arise where the matrix factorization embedding, which was created using the trained data, may not have certain entries for movies that were not a part of the train data, which was used to create the matrix factorization."
      ],
      "metadata": {
        "id": "6K3T1m8O8CVc"
      }
    },
    {
      "cell_type": "code",
      "source": [
        "df = df.groupby(\"movieId\").filter(lambda i: len(i) >= 5)"
      ],
      "metadata": {
        "id": "TB3bFkesLC4O"
      },
      "execution_count": null,
      "outputs": []
    },
    {
      "cell_type": "markdown",
      "source": [
        "Train-test-split the cleaned data, to create train, test, and validation data sets.  Note, that data is being split by user, to ensure that each data set has a proportional representation of data from all users.\n",
        "\n",
        "Then, convert data to numpy arrays, to be used for baseline and hybrid model."
      ],
      "metadata": {
        "id": "HkTe6KgBLQ5S"
      }
    },
    {
      "cell_type": "code",
      "source": [
        "data = SFrame(data=df)\n",
        "train_sf, val_sf = tc.recommender.util.random_split_by_user(data, user_id = 'userId', item_id = 'movieId', item_test_proportion = .15, random_seed = 42)\n",
        "train_sf, test_sf = tc.recommender.util.random_split_by_user(train_sf, user_id = 'userId', item_id = 'movieId', item_test_proportion = .15, random_seed = 42)\n",
        "\n",
        "train_data = train_sf.to_numpy()\n",
        "val_data = val_sf.to_numpy()\n",
        "test_data = test_sf.to_numpy()"
      ],
      "metadata": {
        "id": "MYCIgb0ndRVW"
      },
      "execution_count": null,
      "outputs": []
    },
    {
      "cell_type": "markdown",
      "source": [
        "#Baseline"
      ],
      "metadata": {
        "id": "vm4QaBUwAVOS"
      }
    },
    {
      "cell_type": "markdown",
      "source": [
        "Compute baseline model to compare ML models against.  For the baseline model, first calculate the average of all movie ratings, and compare to actual ratings, computing root mean square error.\n",
        "\n",
        "Being that the baseline model is not an ML model, and does not have any variability in training, produce one RMSE score based on the entire data set, as opposed train/test/val sets."
      ],
      "metadata": {
        "id": "7rklce3BSV_3"
      }
    },
    {
      "cell_type": "code",
      "source": [
        "all_data = df.to_numpy()\n",
        "#Calculate average of all ratings\n",
        "avg = np.average(all_data[:,2])\n",
        "#Fill array with the computed avergae value\n",
        "avg_arr = np.full(len(all_data[:]), avg)\n",
        "#Calculte the differences between all actual values and average values, then square, and average the values.\n",
        "mse = np.square(np.subtract(all_data[:,2], avg_arr)).mean()\n",
        "#Take the square root of squared differences\n",
        "rmse = math.sqrt(mse)\n",
        "print(\"RMSE:\")\n",
        "print(rmse)\n"
      ],
      "metadata": {
        "colab": {
          "base_uri": "https://localhost:8080/"
        },
        "id": "585Q1e1VSU6Z",
        "outputId": "162a51a5-fb65-4087-eba4-0857261a3cfe"
      },
      "execution_count": null,
      "outputs": [
        {
          "output_type": "stream",
          "name": "stdout",
          "text": [
            "RMSE:\n",
            "1.1082377559780345\n"
          ]
        }
      ]
    },
    {
      "cell_type": "markdown",
      "source": [
        "There are very minimal discrepencies between the datasets, but overall, the baseline model produces an RMSE of aprox. 1.1"
      ],
      "metadata": {
        "id": "TtINmOb0ZFiq"
      }
    },
    {
      "cell_type": "markdown",
      "source": [
        "#Simple Model"
      ],
      "metadata": {
        "id": "vo6hpTZwZPyF"
      }
    },
    {
      "cell_type": "markdown",
      "source": [
        "Create a simple model using matrix factorization.  The user-movie rating matrix gets factorized into two matrices.  The important hyperparameter here is the number of factors, ultimately corresponding to the embedding vector size both for movies and users."
      ],
      "metadata": {
        "id": "9Z8Ib1Y6aYdM"
      }
    },
    {
      "cell_type": "code",
      "execution_count": null,
      "metadata": {
        "id": "nEmrzoLaUGiJ"
      },
      "outputs": [],
      "source": [
        "mf_rec = tc.recommender.factorization_recommender.create(train_sf, user_id='userId', num_factors = 5, item_id='movieId', target='rating', random_seed = 42, verbose = 0)"
      ]
    },
    {
      "cell_type": "markdown",
      "source": [
        "To perform a model sanity check, view actual ratings vs ratings predicted by matrix factorization model."
      ],
      "metadata": {
        "id": "klCkwJbzlyHz"
      }
    },
    {
      "cell_type": "code",
      "execution_count": null,
      "metadata": {
        "id": "KANethElMq5A",
        "colab": {
          "base_uri": "https://localhost:8080/"
        },
        "outputId": "2d3d45a2-0d14-4019-de46-11f8cd8dea28"
      },
      "outputs": [
        {
          "output_type": "stream",
          "name": "stdout",
          "text": [
            "Actual Value: 5  Predicted Value: 3.9989296676254096\n",
            "Actual Value: 4  Predicted Value: 3.356408077630979\n",
            "Actual Value: 3  Predicted Value: 2.397640410218221\n",
            "Actual Value: 1  Predicted Value: 3.5659919263458075\n",
            "Actual Value: 5  Predicted Value: 4.659063804302198\n",
            "Actual Value: 5  Predicted Value: 4.608406233940107\n",
            "Actual Value: 5  Predicted Value: 4.645344789478761\n",
            "Actual Value: 5  Predicted Value: 4.083120036277753\n",
            "Actual Value: 1  Predicted Value: 1.229718315753919\n",
            "Actual Value: 4  Predicted Value: 3.978124227713627\n"
          ]
        }
      ],
      "source": [
        "mf_predictions = mf_rec.predict(train_sf)\n",
        "for i in range(0,10):\n",
        "  print(f\"Actual Value: {train_data[i,2]}  Predicted Value: {mf_predictions[i]}\") "
      ]
    },
    {
      "cell_type": "code",
      "source": [
        "#Evaluate RMSE of model on training data\n",
        "mf_rec.evaluate_rmse(train_sf, target = 'rating')"
      ],
      "metadata": {
        "colab": {
          "base_uri": "https://localhost:8080/"
        },
        "id": "_pBm5M1whOQF",
        "outputId": "dcfac655-4bc4-4e3f-abe1-9134ee0ceccb"
      },
      "execution_count": null,
      "outputs": [
        {
          "output_type": "execute_result",
          "data": {
            "text/plain": [
              "{'rmse_by_item': Columns:\n",
              " \tmovieId\tint\n",
              " \trmse\tfloat\n",
              " \tcount\tint\n",
              " \n",
              " Rows: 1122\n",
              " \n",
              " Data:\n",
              " +---------+---------------------+-------+\n",
              " | movieId |         rmse        | count |\n",
              " +---------+---------------------+-------+\n",
              " |   118   |  0.7514512129374674 |  196  |\n",
              " |   660   |  0.664446925473571  |   90  |\n",
              " |   699   |  0.5931678553471817 |   53  |\n",
              " |   567   |  0.776164789630911  |   22  |\n",
              " |   773   | 0.29572660234375975 |   5   |\n",
              " |   1029  | 0.30747515208858445 |   9   |\n",
              " |   435   |  0.6326803185795813 |  111  |\n",
              " |   554   |  0.7815491786266966 |   48  |\n",
              " |   898   |  0.779419043405457  |   38  |\n",
              " |   840   |  0.7180887766929936 |   28  |\n",
              " +---------+---------------------+-------+\n",
              " [1122 rows x 3 columns]\n",
              " Note: Only the head of the SFrame is printed.\n",
              " You can use print_rows(num_rows=m, num_columns=n) to print more rows and columns.,\n",
              " 'rmse_by_user': Columns:\n",
              " \tuserId\tint\n",
              " \trmse\tfloat\n",
              " \tcount\tint\n",
              " \n",
              " Rows: 943\n",
              " \n",
              " Data:\n",
              " +--------+--------------------+-------+\n",
              " | userId |        rmse        | count |\n",
              " +--------+--------------------+-------+\n",
              " |  118   | 0.5223905225352328 |   34  |\n",
              " |  660   | 0.7337802946477516 |  156  |\n",
              " |  839   | 0.8286447897362877 |   37  |\n",
              " |  699   | 0.639231469988301  |   97  |\n",
              " |  567   | 0.8556759876063506 |  102  |\n",
              " |  773   | 0.8295381565307222 |  112  |\n",
              " |  435   | 0.7671959819598047 |  239  |\n",
              " |  554   | 0.4999635416883046 |   78  |\n",
              " |  898   | 0.828303478355244  |   21  |\n",
              " |  840   | 0.6601142926952648 |  142  |\n",
              " +--------+--------------------+-------+\n",
              " [943 rows x 3 columns]\n",
              " Note: Only the head of the SFrame is printed.\n",
              " You can use print_rows(num_rows=m, num_columns=n) to print more rows and columns.,\n",
              " 'rmse_overall': 0.717319253407936}"
            ]
          },
          "metadata": {},
          "execution_count": 14
        }
      ]
    },
    {
      "cell_type": "code",
      "execution_count": null,
      "metadata": {
        "colab": {
          "base_uri": "https://localhost:8080/"
        },
        "id": "LdQArNrZVQjV",
        "outputId": "d9643df0-e707-4647-87c5-b860262872ae"
      },
      "outputs": [
        {
          "output_type": "execute_result",
          "data": {
            "text/plain": [
              "{'rmse_by_item': Columns:\n",
              " \tmovieId\tint\n",
              " \trmse\tfloat\n",
              " \tcount\tint\n",
              " \n",
              " Rows: 1076\n",
              " \n",
              " Data:\n",
              " +---------+--------------------+-------+\n",
              " | movieId |        rmse        | count |\n",
              " +---------+--------------------+-------+\n",
              " |   118   | 0.7370072693825347 |   27  |\n",
              " |   660   | 0.8494909276657377 |   17  |\n",
              " |   699   | 0.9259751804601649 |   10  |\n",
              " |   567   | 0.8596350371606368 |   6   |\n",
              " |   773   | 1.0090002597904029 |   1   |\n",
              " |   1029  | 1.243524470840011  |   3   |\n",
              " |   435   | 1.0332758833455937 |   31  |\n",
              " |   554   | 1.1192293301900458 |   13  |\n",
              " |   898   | 1.6835605257366437 |   6   |\n",
              " |   840   | 0.7440298985492095 |   3   |\n",
              " +---------+--------------------+-------+\n",
              " [1076 rows x 3 columns]\n",
              " Note: Only the head of the SFrame is printed.\n",
              " You can use print_rows(num_rows=m, num_columns=n) to print more rows and columns.,\n",
              " 'rmse_by_user': Columns:\n",
              " \tuserId\tint\n",
              " \trmse\tfloat\n",
              " \tcount\tint\n",
              " \n",
              " Rows: 928\n",
              " \n",
              " Data:\n",
              " +--------+--------------------+-------+\n",
              " | userId |        rmse        | count |\n",
              " +--------+--------------------+-------+\n",
              " |  118   | 1.1150440393508392 |   7   |\n",
              " |  660   | 0.9560616620323639 |   32  |\n",
              " |  839   | 1.2209962711717626 |   10  |\n",
              " |  699   | 1.015678259197179  |   24  |\n",
              " |  567   | 1.0878844672741752 |   27  |\n",
              " |  773   | 0.8145174969062817 |   25  |\n",
              " |  435   | 1.021895623118804  |   46  |\n",
              " |  554   | 0.6536860582799868 |   18  |\n",
              " |  898   | 1.2402390094702171 |   4   |\n",
              " |  840   | 0.9206221135660492 |   27  |\n",
              " +--------+--------------------+-------+\n",
              " [928 rows x 3 columns]\n",
              " Note: Only the head of the SFrame is printed.\n",
              " You can use print_rows(num_rows=m, num_columns=n) to print more rows and columns.,\n",
              " 'rmse_overall': 1.020502465695627}"
            ]
          },
          "metadata": {},
          "execution_count": 15
        }
      ],
      "source": [
        "#Evaluate RMSE of model on validation data\n",
        "mf_rec.evaluate_rmse(val_sf, target = 'rating')"
      ]
    },
    {
      "cell_type": "markdown",
      "source": [
        "Using 5 factors, I overall received the best results.  Although with even fewer factors, the validation data had very small imporovements in RMSE score, I wanted to make sure the embeddings were robust enough to be used in the neural net hybrid model.\n",
        "\n",
        "Overall, the training data has a RMSE of .717, which is phenomenal, but there is clearly overfitting, as the validation data had an RMSE of 1.021.  Even this though, is better than the baseline model, which had an RMSE of about 1.1\n",
        "\n",
        "Let's look at RMSE score on the testing data:"
      ],
      "metadata": {
        "id": "EPhnC6WogbDw"
      }
    },
    {
      "cell_type": "code",
      "source": [
        "mf_rec.evaluate_rmse(test_sf, target = 'rating')"
      ],
      "metadata": {
        "colab": {
          "base_uri": "https://localhost:8080/"
        },
        "id": "Fz7SLvwKjZcZ",
        "outputId": "66ac1a0b-d355-45d1-a6af-3f7d8e103cba"
      },
      "execution_count": null,
      "outputs": [
        {
          "output_type": "execute_result",
          "data": {
            "text/plain": [
              "{'rmse_by_item': Columns:\n",
              " \tmovieId\tint\n",
              " \trmse\tfloat\n",
              " \tcount\tint\n",
              " \n",
              " Rows: 1047\n",
              " \n",
              " Data:\n",
              " +---------+--------------------+-------+\n",
              " | movieId |        rmse        | count |\n",
              " +---------+--------------------+-------+\n",
              " |   118   | 0.7119993458808479 |   17  |\n",
              " |   660   | 1.076608808788389  |   16  |\n",
              " |   699   | 1.3057217346314127 |   16  |\n",
              " |   567   | 4.4361470820045295 |   1   |\n",
              " |   773   | 1.5473070395716184 |   6   |\n",
              " |   435   | 0.7952785700332271 |   26  |\n",
              " |   554   | 1.231914720968132  |   12  |\n",
              " |   898   | 0.8717304552342696 |   7   |\n",
              " |   840   | 0.7855403600293213 |   8   |\n",
              " |   537   | 0.7939615594139832 |   8   |\n",
              " +---------+--------------------+-------+\n",
              " [1047 rows x 3 columns]\n",
              " Note: Only the head of the SFrame is printed.\n",
              " You can use print_rows(num_rows=m, num_columns=n) to print more rows and columns.,\n",
              " 'rmse_by_user': Columns:\n",
              " \tuserId\tint\n",
              " \trmse\tfloat\n",
              " \tcount\tint\n",
              " \n",
              " Rows: 920\n",
              " \n",
              " Data:\n",
              " +--------+---------------------+-------+\n",
              " | userId |         rmse        | count |\n",
              " +--------+---------------------+-------+\n",
              " |  118   | 0.31503926530836246 |   1   |\n",
              " |  660   |  0.8015091770980601 |   31  |\n",
              " |  839   |  1.1091003150031513 |   7   |\n",
              " |  699   |  0.7756043156868178 |   22  |\n",
              " |  567   |  0.5819878327504272 |   22  |\n",
              " |  773   |  1.1294543452333556 |   18  |\n",
              " |  435   |  0.8922380979865063 |   49  |\n",
              " |  554   |  0.7667513349994708 |   17  |\n",
              " |  898   |  0.5754518559838683 |   4   |\n",
              " |  840   |  0.6767937450889758 |   23  |\n",
              " +--------+---------------------+-------+\n",
              " [920 rows x 3 columns]\n",
              " Note: Only the head of the SFrame is printed.\n",
              " You can use print_rows(num_rows=m, num_columns=n) to print more rows and columns.,\n",
              " 'rmse_overall': 1.0183464269355147}"
            ]
          },
          "metadata": {},
          "execution_count": 16
        }
      ]
    },
    {
      "cell_type": "markdown",
      "source": [
        "The testing data had aprox. the same results as the validation data, with an RMSE of 1.018"
      ],
      "metadata": {
        "id": "B5V7Tu1jjkbh"
      }
    },
    {
      "cell_type": "markdown",
      "source": [
        "Using the matrix factorization, we can view movies that are deemed most similar.  The following turicreate method provides the 10 most similar movies for each movie in the dataset.  A higher score is better, and the scores are based off of cosine similarity between latent movie matrix factors."
      ],
      "metadata": {
        "id": "2Uyp5iV8jqnz"
      }
    },
    {
      "cell_type": "code",
      "execution_count": null,
      "metadata": {
        "colab": {
          "base_uri": "https://localhost:8080/"
        },
        "id": "L0LALxBrXsec",
        "outputId": "15cbd9ea-1c07-4187-dfdd-cc47f9dc10fe"
      },
      "outputs": [
        {
          "output_type": "stream",
          "name": "stdout",
          "text": [
            "+---------+---------+--------------------+------+\n",
            "| movieId | similar |       score        | rank |\n",
            "+---------+---------+--------------------+------+\n",
            "|    1    |   202   | 0.9829190373420715 |  1   |\n",
            "|    1    |   832   | 0.9653711915016174 |  2   |\n",
            "|    1    |   620   | 0.9281880259513855 |  3   |\n",
            "|    1    |   172   | 0.9172412157058716 |  4   |\n",
            "|    1    |   1181  | 0.9135940670967102 |  5   |\n",
            "|    1    |   403   | 0.9074235558509827 |  6   |\n",
            "|    1    |   572   | 0.9020295739173889 |  7   |\n",
            "|    1    |   952   | 0.8907140493392944 |  8   |\n",
            "|    1    |   174   | 0.8867518901824951 |  9   |\n",
            "|    1    |   181   | 0.8811113238334656 |  10  |\n",
            "|    3    |    33   | 0.9381273984909058 |  1   |\n",
            "|    3    |   665   | 0.9258729815483093 |  2   |\n",
            "|    3    |   260   | 0.9209964275360107 |  3   |\n",
            "|    3    |    59   | 0.9148467183113098 |  4   |\n",
            "|    3    |   512   | 0.9138672351837158 |  5   |\n",
            "|    3    |   326   | 0.9130807518959045 |  6   |\n",
            "|    3    |   773   | 0.9115629196166992 |  7   |\n",
            "|    3    |   862   | 0.9088550209999084 |  8   |\n",
            "|    3    |   943   | 0.9067790508270264 |  9   |\n",
            "|    3    |   628   | 0.9046441912651062 |  10  |\n",
            "|    5    |   1165  | 0.9875261783599854 |  1   |\n",
            "|    5    |   776   | 0.9544292688369751 |  2   |\n",
            "|    5    |   748   | 0.9389461874961853 |  3   |\n",
            "|    5    |   383   | 0.9379213452339172 |  4   |\n",
            "|    5    |   471   | 0.9376854300498962 |  5   |\n",
            "|    5    |   720   | 0.9375266432762146 |  6   |\n",
            "|    5    |   1145  | 0.9335044622421265 |  7   |\n",
            "|    5    |   391   | 0.9173619151115417 |  8   |\n",
            "|    5    |   118   | 0.9135397672653198 |  9   |\n",
            "|    5    |   121   | 0.9121443033218384 |  10  |\n",
            "+---------+---------+--------------------+------+\n",
            "[11220 rows x 4 columns]\n",
            "\n"
          ]
        }
      ],
      "source": [
        "mf_rec.get_similar_items().print_rows(num_rows=30)"
      ]
    },
    {
      "cell_type": "markdown",
      "source": [
        "We can do the same as above to view similar users:"
      ],
      "metadata": {
        "id": "SknnDxKKkNca"
      }
    },
    {
      "cell_type": "code",
      "source": [
        "mf_rec.get_similar_users().print_rows(num_rows=30)"
      ],
      "metadata": {
        "colab": {
          "base_uri": "https://localhost:8080/",
          "height": 659
        },
        "id": "2tAxy8LbkLmg",
        "outputId": "95c61b9e-4799-47af-c832-73b82432a0ad"
      },
      "execution_count": null,
      "outputs": [
        {
          "output_type": "display_data",
          "data": {
            "text/plain": [
              "Getting similar users completed in 0.019759"
            ],
            "text/html": [
              "<pre>Getting similar users completed in 0.019759</pre>"
            ]
          },
          "metadata": {}
        },
        {
          "output_type": "stream",
          "name": "stdout",
          "text": [
            "+--------+---------+--------------------+------+\n",
            "| userId | similar |       score        | rank |\n",
            "+--------+---------+--------------------+------+\n",
            "|   1    |   397   | 0.9889780879020691 |  1   |\n",
            "|   1    |   527   | 0.9840924739837646 |  2   |\n",
            "|   1    |   448   | 0.9826240539550781 |  3   |\n",
            "|   1    |   903   | 0.962834358215332  |  4   |\n",
            "|   1    |   267   | 0.9463540315628052 |  5   |\n",
            "|   1    |   669   | 0.936616063117981  |  6   |\n",
            "|   1    |   664   | 0.9362205266952515 |  7   |\n",
            "|   1    |    2    | 0.9226730465888977 |  8   |\n",
            "|   1    |   308   | 0.9224660396575928 |  9   |\n",
            "|   1    |   829   | 0.9164837002754211 |  10  |\n",
            "|   2    |   490   | 0.9557328224182129 |  1   |\n",
            "|   2    |   448   | 0.9408483505249023 |  2   |\n",
            "|   2    |   933   | 0.9402737617492676 |  3   |\n",
            "|   2    |   730   | 0.9357120394706726 |  4   |\n",
            "|   2    |   527   | 0.9324018359184265 |  5   |\n",
            "|   2    |    1    | 0.9226730465888977 |  6   |\n",
            "|   2    |   892   | 0.9182469248771667 |  7   |\n",
            "|   2    |   397   | 0.9173777103424072 |  8   |\n",
            "|   2    |   903   | 0.9155206680297852 |  9   |\n",
            "|   2    |    21   | 0.8998764753341675 |  10  |\n",
            "|   3    |   251   | 0.957685112953186  |  1   |\n",
            "|   3    |    64   | 0.9417617917060852 |  2   |\n",
            "|   3    |    76   | 0.940920889377594  |  3   |\n",
            "|   3    |   246   | 0.9163910746574402 |  4   |\n",
            "|   3    |   624   | 0.9096653461456299 |  5   |\n",
            "|   3    |   381   | 0.9071080088615417 |  6   |\n",
            "|   3    |   556   | 0.9005910158157349 |  7   |\n",
            "|   3    |   294   | 0.8971025347709656 |  8   |\n",
            "|   3    |    62   | 0.891825258731842  |  9   |\n",
            "|   3    |   558   | 0.8805392384529114 |  10  |\n",
            "+--------+---------+--------------------+------+\n",
            "[9430 rows x 4 columns]\n",
            "\n"
          ]
        }
      ]
    },
    {
      "cell_type": "markdown",
      "source": [
        "As the last step in the simple model, load the matrices for the users and movies, which will be used as the embeddings in the hybrid model."
      ],
      "metadata": {
        "id": "2b0KZ20Dn4AE"
      }
    },
    {
      "cell_type": "code",
      "source": [
        "user_coef = mf_rec.coefficients['userId']\n",
        "user_coef_sf = user_coef.sort('userId')\n",
        "user_coef = user_coef_sf.to_numpy()\n",
        "\n",
        "movie_coef = mf_rec.coefficients['movieId']\n",
        "movie_coef_sf = movie_coef.sort('movieId')\n",
        "movie_coef = movie_coef_sf.to_numpy()\n"
      ],
      "metadata": {
        "colab": {
          "base_uri": "https://localhost:8080/"
        },
        "id": "uc8RNY4avBk6",
        "outputId": "233586cb-a0d3-47af-b3fc-2d074a0275ae"
      },
      "execution_count": null,
      "outputs": [
        {
          "output_type": "stream",
          "name": "stderr",
          "text": [
            "/usr/local/lib/python3.7/dist-packages/turicreate/data_structures/sframe.py:2616: VisibleDeprecationWarning: Creating an ndarray from ragged nested sequences (which is a list-or-tuple of lists-or-tuples-or ndarrays with different lengths or shapes) is deprecated. If you meant to do this, you must specify 'dtype=object' when creating the ndarray.\n",
            "  return numpy.transpose(numpy.asarray([self[x] for x in self.column_names()]))\n"
          ]
        }
      ]
    },
    {
      "cell_type": "markdown",
      "source": [
        "#Hybrid"
      ],
      "metadata": {
        "id": "Vss0Pwh_AbRe"
      }
    },
    {
      "cell_type": "code",
      "execution_count": null,
      "metadata": {
        "colab": {
          "base_uri": "https://localhost:8080/",
          "height": 1000
        },
        "id": "St26UsWH5Ymw",
        "outputId": "2da51327-70a7-48b6-e45f-f6df15f7437d"
      },
      "outputs": [
        {
          "output_type": "stream",
          "name": "stdout",
          "text": [
            "Requirement already satisfied: tensorflow in /usr/local/lib/python3.7/dist-packages (2.0.4)\n",
            "Collecting tensorflow\n",
            "  Downloading tensorflow-2.9.0-cp37-cp37m-manylinux_2_17_x86_64.manylinux2014_x86_64.whl (511.7 MB)\n",
            "\u001b[K     |████████████████████████████████| 511.7 MB 2.8 kB/s \n",
            "\u001b[?25hRequirement already satisfied: packaging in /usr/local/lib/python3.7/dist-packages (from tensorflow) (21.3)\n",
            "Collecting tensorflow-estimator<2.10.0,>=2.9.0rc0\n",
            "  Downloading tensorflow_estimator-2.9.0-py2.py3-none-any.whl (438 kB)\n",
            "\u001b[K     |████████████████████████████████| 438 kB 53.0 MB/s \n",
            "\u001b[?25hRequirement already satisfied: six>=1.12.0 in /usr/local/lib/python3.7/dist-packages (from tensorflow) (1.15.0)\n",
            "Requirement already satisfied: termcolor>=1.1.0 in /usr/local/lib/python3.7/dist-packages (from tensorflow) (1.1.0)\n",
            "Requirement already satisfied: astunparse>=1.6.0 in /usr/local/lib/python3.7/dist-packages (from tensorflow) (1.6.3)\n",
            "Requirement already satisfied: opt-einsum>=2.3.2 in /usr/local/lib/python3.7/dist-packages (from tensorflow) (3.3.0)\n",
            "Requirement already satisfied: protobuf>=3.9.2 in /usr/local/lib/python3.7/dist-packages (from tensorflow) (3.17.3)\n",
            "Requirement already satisfied: absl-py>=1.0.0 in /usr/local/lib/python3.7/dist-packages (from tensorflow) (1.0.0)\n",
            "Requirement already satisfied: setuptools in /usr/local/lib/python3.7/dist-packages (from tensorflow) (57.4.0)\n",
            "Requirement already satisfied: typing-extensions>=3.6.6 in /usr/local/lib/python3.7/dist-packages (from tensorflow) (4.2.0)\n",
            "Requirement already satisfied: google-pasta>=0.1.1 in /usr/local/lib/python3.7/dist-packages (from tensorflow) (0.2.0)\n",
            "Requirement already satisfied: keras-preprocessing>=1.1.1 in /usr/local/lib/python3.7/dist-packages (from tensorflow) (1.1.2)\n",
            "Collecting tensorboard<2.10,>=2.9\n",
            "  Downloading tensorboard-2.9.0-py3-none-any.whl (5.8 MB)\n",
            "\u001b[K     |████████████████████████████████| 5.8 MB 42.7 MB/s \n",
            "\u001b[?25hRequirement already satisfied: libclang>=13.0.0 in /usr/local/lib/python3.7/dist-packages (from tensorflow) (14.0.1)\n",
            "Requirement already satisfied: grpcio<2.0,>=1.24.3 in /usr/local/lib/python3.7/dist-packages (from tensorflow) (1.46.1)\n",
            "Requirement already satisfied: h5py>=2.9.0 in /usr/local/lib/python3.7/dist-packages (from tensorflow) (2.10.0)\n",
            "Collecting flatbuffers<2,>=1.12\n",
            "  Downloading flatbuffers-1.12-py2.py3-none-any.whl (15 kB)\n",
            "Requirement already satisfied: wrapt>=1.11.0 in /usr/local/lib/python3.7/dist-packages (from tensorflow) (1.14.1)\n",
            "Collecting keras<2.10.0,>=2.9.0rc0\n",
            "  Downloading keras-2.9.0-py2.py3-none-any.whl (1.6 MB)\n",
            "\u001b[K     |████████████████████████████████| 1.6 MB 27.9 MB/s \n",
            "\u001b[?25hRequirement already satisfied: tensorflow-io-gcs-filesystem>=0.23.1 in /usr/local/lib/python3.7/dist-packages (from tensorflow) (0.25.0)\n",
            "Collecting numpy>=1.20\n",
            "  Downloading numpy-1.21.6-cp37-cp37m-manylinux_2_12_x86_64.manylinux2010_x86_64.whl (15.7 MB)\n",
            "\u001b[K     |████████████████████████████████| 15.7 MB 215 kB/s \n",
            "\u001b[?25hRequirement already satisfied: gast<=0.4.0,>=0.2.1 in /usr/local/lib/python3.7/dist-packages (from tensorflow) (0.2.2)\n",
            "Requirement already satisfied: wheel<1.0,>=0.23.0 in /usr/local/lib/python3.7/dist-packages (from astunparse>=1.6.0->tensorflow) (0.37.1)\n",
            "Requirement already satisfied: tensorboard-plugin-wit>=1.6.0 in /usr/local/lib/python3.7/dist-packages (from tensorboard<2.10,>=2.9->tensorflow) (1.8.1)\n",
            "Requirement already satisfied: google-auth<3,>=1.6.3 in /usr/local/lib/python3.7/dist-packages (from tensorboard<2.10,>=2.9->tensorflow) (1.35.0)\n",
            "Requirement already satisfied: requests<3,>=2.21.0 in /usr/local/lib/python3.7/dist-packages (from tensorboard<2.10,>=2.9->tensorflow) (2.23.0)\n",
            "Requirement already satisfied: google-auth-oauthlib<0.5,>=0.4.1 in /usr/local/lib/python3.7/dist-packages (from tensorboard<2.10,>=2.9->tensorflow) (0.4.6)\n",
            "Requirement already satisfied: werkzeug>=1.0.1 in /usr/local/lib/python3.7/dist-packages (from tensorboard<2.10,>=2.9->tensorflow) (1.0.1)\n",
            "Requirement already satisfied: tensorboard-data-server<0.7.0,>=0.6.0 in /usr/local/lib/python3.7/dist-packages (from tensorboard<2.10,>=2.9->tensorflow) (0.6.1)\n",
            "Requirement already satisfied: markdown>=2.6.8 in /usr/local/lib/python3.7/dist-packages (from tensorboard<2.10,>=2.9->tensorflow) (3.3.7)\n",
            "Requirement already satisfied: cachetools<5.0,>=2.0.0 in /usr/local/lib/python3.7/dist-packages (from google-auth<3,>=1.6.3->tensorboard<2.10,>=2.9->tensorflow) (4.2.4)\n",
            "Requirement already satisfied: rsa<5,>=3.1.4 in /usr/local/lib/python3.7/dist-packages (from google-auth<3,>=1.6.3->tensorboard<2.10,>=2.9->tensorflow) (4.8)\n",
            "Requirement already satisfied: pyasn1-modules>=0.2.1 in /usr/local/lib/python3.7/dist-packages (from google-auth<3,>=1.6.3->tensorboard<2.10,>=2.9->tensorflow) (0.2.8)\n",
            "Requirement already satisfied: requests-oauthlib>=0.7.0 in /usr/local/lib/python3.7/dist-packages (from google-auth-oauthlib<0.5,>=0.4.1->tensorboard<2.10,>=2.9->tensorflow) (1.3.1)\n",
            "Requirement already satisfied: importlib-metadata>=4.4 in /usr/local/lib/python3.7/dist-packages (from markdown>=2.6.8->tensorboard<2.10,>=2.9->tensorflow) (4.11.3)\n",
            "Requirement already satisfied: zipp>=0.5 in /usr/local/lib/python3.7/dist-packages (from importlib-metadata>=4.4->markdown>=2.6.8->tensorboard<2.10,>=2.9->tensorflow) (3.8.0)\n",
            "Requirement already satisfied: pyasn1<0.5.0,>=0.4.6 in /usr/local/lib/python3.7/dist-packages (from pyasn1-modules>=0.2.1->google-auth<3,>=1.6.3->tensorboard<2.10,>=2.9->tensorflow) (0.4.8)\n",
            "Requirement already satisfied: idna<3,>=2.5 in /usr/local/lib/python3.7/dist-packages (from requests<3,>=2.21.0->tensorboard<2.10,>=2.9->tensorflow) (2.10)\n",
            "Requirement already satisfied: certifi>=2017.4.17 in /usr/local/lib/python3.7/dist-packages (from requests<3,>=2.21.0->tensorboard<2.10,>=2.9->tensorflow) (2021.10.8)\n",
            "Requirement already satisfied: urllib3!=1.25.0,!=1.25.1,<1.26,>=1.21.1 in /usr/local/lib/python3.7/dist-packages (from requests<3,>=2.21.0->tensorboard<2.10,>=2.9->tensorflow) (1.24.3)\n",
            "Requirement already satisfied: chardet<4,>=3.0.2 in /usr/local/lib/python3.7/dist-packages (from requests<3,>=2.21.0->tensorboard<2.10,>=2.9->tensorflow) (3.0.4)\n",
            "Requirement already satisfied: oauthlib>=3.0.0 in /usr/local/lib/python3.7/dist-packages (from requests-oauthlib>=0.7.0->google-auth-oauthlib<0.5,>=0.4.1->tensorboard<2.10,>=2.9->tensorflow) (3.2.0)\n",
            "Requirement already satisfied: pyparsing!=3.0.5,>=2.0.2 in /usr/local/lib/python3.7/dist-packages (from packaging->tensorflow) (3.0.9)\n",
            "Installing collected packages: numpy, tensorflow-estimator, tensorboard, keras, flatbuffers, tensorflow\n",
            "  Attempting uninstall: numpy\n",
            "    Found existing installation: numpy 1.18.5\n",
            "    Uninstalling numpy-1.18.5:\n",
            "      Successfully uninstalled numpy-1.18.5\n",
            "  Attempting uninstall: tensorflow-estimator\n",
            "    Found existing installation: tensorflow-estimator 2.0.1\n",
            "    Uninstalling tensorflow-estimator-2.0.1:\n",
            "      Successfully uninstalled tensorflow-estimator-2.0.1\n",
            "  Attempting uninstall: tensorboard\n",
            "    Found existing installation: tensorboard 2.0.2\n",
            "    Uninstalling tensorboard-2.0.2:\n",
            "      Successfully uninstalled tensorboard-2.0.2\n",
            "  Attempting uninstall: keras\n",
            "    Found existing installation: keras 2.8.0\n",
            "    Uninstalling keras-2.8.0:\n",
            "      Successfully uninstalled keras-2.8.0\n",
            "  Attempting uninstall: flatbuffers\n",
            "    Found existing installation: flatbuffers 2.0\n",
            "    Uninstalling flatbuffers-2.0:\n",
            "      Successfully uninstalled flatbuffers-2.0\n",
            "  Attempting uninstall: tensorflow\n",
            "    Found existing installation: tensorflow 2.0.4\n",
            "    Uninstalling tensorflow-2.0.4:\n",
            "      Successfully uninstalled tensorflow-2.0.4\n",
            "\u001b[31mERROR: pip's dependency resolver does not currently take into account all the packages that are installed. This behaviour is the source of the following dependency conflicts.\n",
            "turicreate 6.4.1 requires tensorflow<2.1.0,>=2.0.0, but you have tensorflow 2.9.0 which is incompatible.\n",
            "tensorflow-probability 0.16.0 requires gast>=0.3.2, but you have gast 0.2.2 which is incompatible.\n",
            "librosa 0.8.1 requires resampy>=0.2.2, but you have resampy 0.2.1 which is incompatible.\n",
            "datascience 0.10.6 requires folium==0.2.1, but you have folium 0.8.3 which is incompatible.\n",
            "albumentations 0.1.12 requires imgaug<0.2.7,>=0.2.5, but you have imgaug 0.2.9 which is incompatible.\u001b[0m\n",
            "Successfully installed flatbuffers-1.12 keras-2.9.0 numpy-1.21.6 tensorboard-2.9.0 tensorflow-2.9.0 tensorflow-estimator-2.9.0\n"
          ]
        },
        {
          "output_type": "display_data",
          "data": {
            "application/vnd.colab-display-data+json": {
              "pip_warning": {
                "packages": [
                  "numpy"
                ]
              }
            }
          },
          "metadata": {}
        }
      ],
      "source": [
        "#Update tensorflow to the newest version (turicreate runs on an older version)\n",
        "!pip install -U tensorflow\n",
        "\n",
        "#Neural Net Imports\n",
        "from keras.layers import Dense, Dropout\n",
        "from keras.models import Sequential\n",
        "from keras.optimizers import SGD\n",
        "from keras import metrics\n",
        "from sklearn.metrics import mean_squared_error\n",
        "import matplotlib.pyplot as plt\n"
      ]
    },
    {
      "cell_type": "markdown",
      "source": [
        "For the hybrid model, I am taking the user and movie latent factors from the matrix factorization model, and using them as embeddings into a neural network.  The first step is to use the matrices retrieved above to create the embeddings for each dataset."
      ],
      "metadata": {
        "id": "nOxq7BzXrxbm"
      }
    },
    {
      "cell_type": "code",
      "source": [
        "#function to create embeddings to be inputted to neural net\n",
        "def createEmbedding(data):\n",
        "  movie_embedding = []\n",
        "  user_embedding = []\n",
        "  concat_embedding = []\n",
        "  for row in data:\n",
        "    movie_id = row[1]\n",
        "    user_id = row[0]\n",
        "    #find the row in the coefficient matrix for the given movie id, and append the latent factors to the movie_embedding matrix\n",
        "    movie_coef_index = np.where(movie_coef[:,0]==movie_id)\n",
        "    movie_embedding.append(movie_coef[movie_coef_index[0][0]][2])\n",
        "    #similarly, append latent factors for given user to user_embedding matrix\n",
        "    user_embedding.append(user_coef[user_id-1][2])\n",
        "  movie_embedding = np.asarray(movie_embedding)\n",
        "  user_embedding = np.asarray(user_embedding)\n",
        "  #create one embedding matrix, with movie and user embeddings concatenated together\n",
        "  concat_embedding = np.concatenate((movie_embedding, user_embedding), axis=1)\n",
        "  return concat_embedding\n",
        "\n",
        "#retrieve train, val and test embeddings\n",
        "train_embedding = createEmbedding(train_data)\n",
        "val_embedding = createEmbedding(val_data)\n",
        "test_embedding = createEmbedding(test_data)\n"
      ],
      "metadata": {
        "id": "Y50q1G4tfJVB"
      },
      "execution_count": null,
      "outputs": []
    },
    {
      "cell_type": "markdown",
      "source": [
        "Build a neural network, with the input being the embeddings from the matrix factorization"
      ],
      "metadata": {
        "id": "DobyGkPWwvjb"
      }
    },
    {
      "cell_type": "code",
      "source": [
        "model = Sequential()\n",
        "#Add relu layers with decreasing amount of neurons\n",
        "model.add(Dense(128, input_dim=10, activation='relu'))\n",
        "#Use dropout to limit overlearning\n",
        "model.add(Dropout(0.2))\n",
        "model.add(Dense(64, activation='relu'))\n",
        "model.add(Dropout(0.2))\n",
        "model.add(Dense(32, activation='relu'))\n",
        "model.add(Dropout(0.2))\n",
        "model.add(Dense(8, activation='relu'))\n",
        "model.add(Dense(1))\n",
        "#SGD optimizer (with a low learning rateperformed better than Adam\n",
        "sgd_opt = SGD(learning_rate=.0041, name=\"SGD\")\n",
        "model.compile(optimizer = sgd_opt, loss='mse', metrics=[metrics.RootMeanSquaredError()])\n",
        "history = model.fit(x=train_embedding, y=train_data[:,2], epochs=6, verbose=2, batch_size = 100, validation_data=(val_embedding, val_data[:,2]))"
      ],
      "metadata": {
        "id": "1lQwW4AXK8Li",
        "colab": {
          "base_uri": "https://localhost:8080/"
        },
        "outputId": "54d46651-7df1-4371-d271-7f879721cf72"
      },
      "execution_count": null,
      "outputs": [
        {
          "output_type": "stream",
          "name": "stdout",
          "text": [
            "Epoch 1/6\n",
            "WARNING:tensorflow:AutoGraph could not transform <function Model.make_train_function.<locals>.train_function at 0x7f8375b84950> and will run it as-is.\n",
            "Please report this to the TensorFlow team. When filing the bug, set the verbosity to 10 (on Linux, `export AUTOGRAPH_VERBOSITY=10`) and attach the full output.\n",
            "Cause: 'arguments' object has no attribute 'posonlyargs'\n",
            "To silence this warning, decorate the function with @tf.autograph.experimental.do_not_convert\n",
            "WARNING: AutoGraph could not transform <function Model.make_train_function.<locals>.train_function at 0x7f8375b84950> and will run it as-is.\n",
            "Please report this to the TensorFlow team. When filing the bug, set the verbosity to 10 (on Linux, `export AUTOGRAPH_VERBOSITY=10`) and attach the full output.\n",
            "Cause: 'arguments' object has no attribute 'posonlyargs'\n",
            "To silence this warning, decorate the function with @tf.autograph.experimental.do_not_convert\n",
            "WARNING:tensorflow:AutoGraph could not transform <function Model.make_test_function.<locals>.test_function at 0x7f8375e56950> and will run it as-is.\n",
            "Please report this to the TensorFlow team. When filing the bug, set the verbosity to 10 (on Linux, `export AUTOGRAPH_VERBOSITY=10`) and attach the full output.\n",
            "Cause: 'arguments' object has no attribute 'posonlyargs'\n",
            "To silence this warning, decorate the function with @tf.autograph.experimental.do_not_convert\n",
            "WARNING: AutoGraph could not transform <function Model.make_test_function.<locals>.test_function at 0x7f8375e56950> and will run it as-is.\n",
            "Please report this to the TensorFlow team. When filing the bug, set the verbosity to 10 (on Linux, `export AUTOGRAPH_VERBOSITY=10`) and attach the full output.\n",
            "Cause: 'arguments' object has no attribute 'posonlyargs'\n",
            "To silence this warning, decorate the function with @tf.autograph.experimental.do_not_convert\n",
            "561/561 - 6s - loss: 1.6482 - root_mean_squared_error: 1.2838 - val_loss: 1.1406 - val_root_mean_squared_error: 1.0680 - 6s/epoch - 10ms/step\n",
            "Epoch 2/6\n",
            "561/561 - 2s - loss: 1.1483 - root_mean_squared_error: 1.0716 - val_loss: 1.1029 - val_root_mean_squared_error: 1.0502 - 2s/epoch - 4ms/step\n",
            "Epoch 3/6\n",
            "561/561 - 3s - loss: 1.0870 - root_mean_squared_error: 1.0426 - val_loss: 1.0926 - val_root_mean_squared_error: 1.0453 - 3s/epoch - 5ms/step\n",
            "Epoch 4/6\n",
            "561/561 - 3s - loss: 1.0453 - root_mean_squared_error: 1.0224 - val_loss: 1.0898 - val_root_mean_squared_error: 1.0440 - 3s/epoch - 5ms/step\n",
            "Epoch 5/6\n",
            "561/561 - 4s - loss: 1.0157 - root_mean_squared_error: 1.0078 - val_loss: 1.0965 - val_root_mean_squared_error: 1.0471 - 4s/epoch - 7ms/step\n",
            "Epoch 6/6\n",
            "561/561 - 3s - loss: 0.9954 - root_mean_squared_error: 0.9977 - val_loss: 1.1066 - val_root_mean_squared_error: 1.0520 - 3s/epoch - 6ms/step\n"
          ]
        }
      ]
    },
    {
      "cell_type": "markdown",
      "source": [
        "As displayed above, as well as in the plots of the loss and RMSE below, althought the dropout layers prevented extreme overfitting, some overfitting nevertheless exists."
      ],
      "metadata": {
        "id": "Fb4BNY0vVIP6"
      }
    },
    {
      "cell_type": "code",
      "source": [
        "#plot code based on\n",
        "#https://machinelearningmastery.com/display-deep-learning-model-training-history-in-keras/\n",
        "\n",
        "# summarize history for rmse\n",
        "plt.plot(history.history['root_mean_squared_error'])\n",
        "plt.plot(history.history['val_root_mean_squared_error'])\n",
        "plt.title('model RMSE')\n",
        "plt.ylabel('rmse')\n",
        "plt.xlabel('epoch')\n",
        "plt.legend(['train', 'validation'], loc='upper left')\n",
        "plt.show()\n",
        "\n",
        "# summarize history for loss\n",
        "plt.plot(history.history['loss'])\n",
        "plt.plot(history.history['val_loss'])\n",
        "plt.title('model loss')\n",
        "plt.ylabel('loss')\n",
        "plt.xlabel('epoch')\n",
        "plt.legend(['train', 'val'], loc='upper left')\n",
        "plt.show()"
      ],
      "metadata": {
        "colab": {
          "base_uri": "https://localhost:8080/",
          "height": 573
        },
        "id": "o2GuQMA4UUut",
        "outputId": "ada97632-8e09-49fc-d7a4-3b2e4b2fbecf"
      },
      "execution_count": null,
      "outputs": [
        {
          "output_type": "display_data",
          "data": {
            "text/plain": [
              "<Figure size 432x288 with 1 Axes>"
            ],
            "image/png": "[encoded data removed]"
          },
          "metadata": {
            "needs_background": "light"
          }
        },
        {
          "output_type": "display_data",
          "data": {
            "text/plain": [
              "<Figure size 432x288 with 1 Axes>"
            ],
            "image/png": "[encoded data removed]"
          },
          "metadata": {
            "needs_background": "light"
          }
        }
      ]
    },
    {
      "cell_type": "markdown",
      "source": [
        "Compute the hybrid models's RMSE scores.  Interestingly, the hybrid model performed slightly worse than the simple model.\n"
      ],
      "metadata": {
        "id": "7-BnrZT8afUM"
      }
    },
    {
      "cell_type": "code",
      "source": [
        "#Retrieve the predictions from model\n",
        "train_predictions = model.predict(train_embedding)\n",
        "\n",
        "#Compute RMSE between actual values and model's predictions\n",
        "#When the squared parameter is false, the RMSE is computed\n",
        "print(f\"/nTrain RMSE: {mean_squared_error(train_data[:,2], train_predictions, squared = False)}\\n\")\n",
        "\n",
        "#Do the same for val, and then test data\n",
        "val_predictions = model.predict(val_embedding)\n",
        "print(f\"Validation RMSE: {mean_squared_error(val_data[:,2], val_predictions, squared = False)}\\n\")\n",
        "\n",
        "test_predictions = model.predict(test_embedding)\n",
        "print(f\"Test RMSE: {mean_squared_error(test_data[:,2], test_predictions, squared = False)}\")"
      ],
      "metadata": {
        "colab": {
          "base_uri": "https://localhost:8080/"
        },
        "id": "TRo0XHtCVu0B",
        "outputId": "534ebb14-9734-4e3c-a50b-550ee7feeac1"
      },
      "execution_count": null,
      "outputs": [
        {
          "output_type": "stream",
          "name": "stdout",
          "text": [
            "1751/1751 [==============================] - 11s 7ms/step\n",
            "/nTrain RMSE: 0.9520818579693145\n",
            "\n",
            "364/364 [==============================] - 3s 9ms/step\n",
            "Validation RMSE: 1.0519540413256552\n",
            "\n",
            "309/309 [==============================] - 3s 9ms/step\n",
            "Test RMSE: 1.05598381243121\n"
          ]
        }
      ]
    },
    {
      "cell_type": "markdown",
      "source": [
        "#Final Validation"
      ],
      "metadata": {
        "id": "EIfmI0vHAgMz"
      }
    },
    {
      "cell_type": "markdown",
      "source": [
        "Load the final testing set."
      ],
      "metadata": {
        "id": "d52g-Zupb1o5"
      }
    },
    {
      "cell_type": "code",
      "source": [
        "final_test_df = pd.read_csv(\"http://files.grouplens.org/datasets/movielens/ml-100k/u1.test\",sep='\\t',header=None, names=[\"userId\", \"movieId\", \"rating\", \"timestamp\"])\n",
        "final_test_df.drop('timestamp', inplace=True, axis =1)"
      ],
      "metadata": {
        "id": "NcDzBGQzb11T"
      },
      "execution_count": null,
      "outputs": []
    },
    {
      "cell_type": "markdown",
      "source": [
        "In the initial dataset, movies with an id higher than 1200 were dropped, as well as all other movies with less than 5 datapoints.  To easily determine movies than were used, and which thus have embeddings to be tested with, view the first column of the movie embedding list.  Any Id not present there will be removed from the final testing data."
      ],
      "metadata": {
        "id": "7ZkhECSxpIed"
      }
    },
    {
      "cell_type": "code",
      "source": [
        "embedding_list= movie_coef[:,0]\n",
        "final_test_df = final_test_df[final_test_df.movieId.isin(embedding_list)]\n",
        "final_test_data = final_test_df.to_numpy()"
      ],
      "metadata": {
        "id": "rmqWiljgohFz"
      },
      "execution_count": null,
      "outputs": []
    },
    {
      "cell_type": "code",
      "source": [
        "#Evaluate RMSE of final test data on simple model\n",
        "\n",
        "final_test_sf = SFrame(data=final_test_df)\n",
        "\n",
        "mf_rec.evaluate_rmse(final_test_sf, target = 'rating')"
      ],
      "metadata": {
        "colab": {
          "base_uri": "https://localhost:8080/"
        },
        "id": "7aX15a7yc7hm",
        "outputId": "c7f9fc3f-2103-405e-b7ef-e372d5a43032"
      },
      "execution_count": null,
      "outputs": [
        {
          "output_type": "execute_result",
          "data": {
            "text/plain": [
              "{'rmse_by_item': Columns:\n",
              " \tmovieId\tint\n",
              " \trmse\tfloat\n",
              " \tcount\tint\n",
              " \n",
              " Rows: 1104\n",
              " \n",
              " Data:\n",
              " +---------+--------------------+-------+\n",
              " | movieId |        rmse        | count |\n",
              " +---------+--------------------+-------+\n",
              " |   118   | 0.970467270442791  |   53  |\n",
              " |   660   | 0.9554967500180628 |   30  |\n",
              " |   699   |  1.09095459661659  |   23  |\n",
              " |   567   | 2.5192362310412055 |   6   |\n",
              " |   773   | 0.6274033625455666 |   5   |\n",
              " |   1029  | 1.1615855962151849 |   2   |\n",
              " |   435   | 0.9226240320162616 |   48  |\n",
              " |   554   | 0.9635494787249177 |   29  |\n",
              " |   898   | 0.6948802610045155 |   7   |\n",
              " |   840   | 1.3671765374875553 |   14  |\n",
              " +---------+--------------------+-------+\n",
              " [1104 rows x 3 columns]\n",
              " Note: Only the head of the SFrame is printed.\n",
              " You can use print_rows(num_rows=m, num_columns=n) to print more rows and columns.,\n",
              " 'rmse_by_user': Columns:\n",
              " \tuserId\tint\n",
              " \trmse\tfloat\n",
              " \tcount\tint\n",
              " \n",
              " Rows: 459\n",
              " \n",
              " Data:\n",
              " +--------+--------------------+-------+\n",
              " | userId |        rmse        | count |\n",
              " +--------+--------------------+-------+\n",
              " |  118   | 0.7246050440396851 |   29  |\n",
              " |  435   | 0.8671461729224937 |   31  |\n",
              " |  130   | 1.0088847755545802 |  164  |\n",
              " |  257   | 0.7839417516176025 |   24  |\n",
              " |  217   | 2.2407771293139604 |   36  |\n",
              " |  232   | 0.9704540196642819 |   46  |\n",
              " |  310   | 1.4106454402271345 |   17  |\n",
              " |   49   | 1.094654778918723  |  107  |\n",
              " |  424   | 1.2420745203952126 |   3   |\n",
              " |   13   | 1.4757779796520736 |  247  |\n",
              " +--------+--------------------+-------+\n",
              " [459 rows x 3 columns]\n",
              " Note: Only the head of the SFrame is printed.\n",
              " You can use print_rows(num_rows=m, num_columns=n) to print more rows and columns.,\n",
              " 'rmse_overall': 1.0485538142317399}"
            ]
          },
          "metadata": {},
          "execution_count": 27
        }
      ]
    },
    {
      "cell_type": "code",
      "source": [
        "#Evaluate RMSE of final test data on hybrid model\n",
        "\n",
        "\n",
        "final_test_embedding = createEmbedding(final_test_data)\n",
        "final_test_predictions = model.predict(final_test_embedding)\n",
        "print(f\"Validation RMSE: {mean_squared_error(final_test_data[:,2], final_test_predictions, squared = False)}\")"
      ],
      "metadata": {
        "colab": {
          "base_uri": "https://localhost:8080/"
        },
        "id": "YOxHwTr-dVxD",
        "outputId": "43c6d439-a5cc-4fbb-d7f4-90e2dc274030"
      },
      "execution_count": null,
      "outputs": [
        {
          "output_type": "stream",
          "name": "stdout",
          "text": [
            "606/606 [==============================] - 4s 7ms/step\n",
            "Validation RMSE: 1.0697348123265387\n",
            "\n"
          ]
        }
      ]
    },
    {
      "cell_type": "markdown",
      "source": [
        "Final Results:\n",
        "\n",
        "\n",
        "*   Baseline Model:  1.1\n",
        "\n",
        "\n",
        "\n",
        "Here are the final results for the simple and hybrid models, respectively:\n",
        "\n",
        "\n",
        "\n",
        "*   Train: .717;  .952\n",
        "*   Validation: 1.021;  1.052\n",
        "*   Test: 1.018;  1.056\n",
        "*   Final Test: 1.049;  1.070\n",
        "\n",
        "\n",
        "\n",
        "\n",
        "\n",
        "\n"
      ],
      "metadata": {
        "id": "AEZgGzz6qt2y"
      }
    }
  ],
  "metadata": {
    "colab": {
      "provenance": [],
      "collapsed_sections": [
        "EIfmI0vHAgMz"
      ],
      "authorship_tag": "ABX9TyOJcFPTlsdTzhEyE71KXWYf",
      "include_colab_link": true
    },
    "kernelspec": {
      "display_name": "Python 3",
      "name": "python3"
    },
    "language_info": {
      "name": "python"
    }
  },
  "nbformat": 4,
  "nbformat_minor": 0
}